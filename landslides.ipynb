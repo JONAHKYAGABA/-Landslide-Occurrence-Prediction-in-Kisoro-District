{
  "cells": [
    {
      "cell_type": "code",
      "execution_count": null,
      "metadata": {
        "id": "hcqiflxTiiMJ"
      },
      "outputs": [],
      "source": [
        "import pandas as pd\n",
        "import numpy as np\n",
        "import matplotlib.pyplot as plt\n",
        "import altair as alt\n",
        "from sklearn.metrics import confusion_matrix"
      ]
    },
    {
      "cell_type": "code",
      "execution_count": null,
      "metadata": {
        "colab": {
          "base_uri": "https://localhost:8080/"
        },
        "id": "PT-vY4cLjA8Y",
        "outputId": "f120fb17-33ed-4582-e26e-758e53078998"
      },
      "outputs": [
        {
          "output_type": "stream",
          "name": "stdout",
          "text": [
            "Drive already mounted at /content/drive; to attempt to forcibly remount, call drive.mount(\"/content/drive\", force_remount=True).\n"
          ]
        }
      ],
      "source": [
        "from google.colab import drive\n",
        "drive.mount(\"/content/drive\")\n"
      ]
    },
    {
      "cell_type": "code",
      "execution_count": null,
      "metadata": {
        "id": "F2rhwPKUjm_K"
      },
      "outputs": [],
      "source": [
        "df = pd.read_excel(\"/content/drive/MyDrive/landslide_kisoro.xlsx\")"
      ]
    },
    {
      "cell_type": "code",
      "execution_count": null,
      "metadata": {
        "colab": {
          "base_uri": "https://localhost:8080/",
          "height": 300
        },
        "id": "GgYPFMsQlGu7",
        "outputId": "28778a96-ec0e-41cb-ef66-85102ac43acf"
      },
      "outputs": [
        {
          "output_type": "execute_result",
          "data": {
            "text/plain": [
              "       RELATIVE HUMIDITY  RAINFALL INTENSITY   MAX TEMP   MIN TEMP   WETSPELL  \\\n",
              "count          28.000000           28.000000  28.000000  28.000000  28.000000   \n",
              "mean           82.015030            4.366961  21.404528  13.600847   1.571429   \n",
              "std             2.799524            0.736346   0.330586   0.402393   1.476446   \n",
              "min            76.808230            2.996652  20.741530  12.941130   0.000000   \n",
              "25%            80.072712            3.929742  21.196912  13.322498   0.750000   \n",
              "50%            82.389720            4.313538  21.350850  13.541460   1.000000   \n",
              "75%            83.364660            4.729167  21.556955  13.789480   2.000000   \n",
              "max            86.913590            6.306565  22.209840  14.570900   6.000000   \n",
              "\n",
              "            NDVI  OCCURANCE  \n",
              "count  28.000000  28.000000  \n",
              "mean    0.634799   0.285714  \n",
              "std     0.040317   0.460044  \n",
              "min     0.554108   0.000000  \n",
              "25%     0.603687   0.000000  \n",
              "50%     0.635738   0.000000  \n",
              "75%     0.662330   1.000000  \n",
              "max     0.712194   1.000000  "
            ],
            "text/html": [
              "\n",
              "  <div id=\"df-71d6ca7e-0222-49da-9b62-088126c42767\" class=\"colab-df-container\">\n",
              "    <div>\n",
              "<style scoped>\n",
              "    .dataframe tbody tr th:only-of-type {\n",
              "        vertical-align: middle;\n",
              "    }\n",
              "\n",
              "    .dataframe tbody tr th {\n",
              "        vertical-align: top;\n",
              "    }\n",
              "\n",
              "    .dataframe thead th {\n",
              "        text-align: right;\n",
              "    }\n",
              "</style>\n",
              "<table border=\"1\" class=\"dataframe\">\n",
              "  <thead>\n",
              "    <tr style=\"text-align: right;\">\n",
              "      <th></th>\n",
              "      <th>RELATIVE HUMIDITY</th>\n",
              "      <th>RAINFALL INTENSITY</th>\n",
              "      <th>MAX TEMP</th>\n",
              "      <th>MIN TEMP</th>\n",
              "      <th>WETSPELL</th>\n",
              "      <th>NDVI</th>\n",
              "      <th>OCCURANCE</th>\n",
              "    </tr>\n",
              "  </thead>\n",
              "  <tbody>\n",
              "    <tr>\n",
              "      <th>count</th>\n",
              "      <td>28.000000</td>\n",
              "      <td>28.000000</td>\n",
              "      <td>28.000000</td>\n",
              "      <td>28.000000</td>\n",
              "      <td>28.000000</td>\n",
              "      <td>28.000000</td>\n",
              "      <td>28.000000</td>\n",
              "    </tr>\n",
              "    <tr>\n",
              "      <th>mean</th>\n",
              "      <td>82.015030</td>\n",
              "      <td>4.366961</td>\n",
              "      <td>21.404528</td>\n",
              "      <td>13.600847</td>\n",
              "      <td>1.571429</td>\n",
              "      <td>0.634799</td>\n",
              "      <td>0.285714</td>\n",
              "    </tr>\n",
              "    <tr>\n",
              "      <th>std</th>\n",
              "      <td>2.799524</td>\n",
              "      <td>0.736346</td>\n",
              "      <td>0.330586</td>\n",
              "      <td>0.402393</td>\n",
              "      <td>1.476446</td>\n",
              "      <td>0.040317</td>\n",
              "      <td>0.460044</td>\n",
              "    </tr>\n",
              "    <tr>\n",
              "      <th>min</th>\n",
              "      <td>76.808230</td>\n",
              "      <td>2.996652</td>\n",
              "      <td>20.741530</td>\n",
              "      <td>12.941130</td>\n",
              "      <td>0.000000</td>\n",
              "      <td>0.554108</td>\n",
              "      <td>0.000000</td>\n",
              "    </tr>\n",
              "    <tr>\n",
              "      <th>25%</th>\n",
              "      <td>80.072712</td>\n",
              "      <td>3.929742</td>\n",
              "      <td>21.196912</td>\n",
              "      <td>13.322498</td>\n",
              "      <td>0.750000</td>\n",
              "      <td>0.603687</td>\n",
              "      <td>0.000000</td>\n",
              "    </tr>\n",
              "    <tr>\n",
              "      <th>50%</th>\n",
              "      <td>82.389720</td>\n",
              "      <td>4.313538</td>\n",
              "      <td>21.350850</td>\n",
              "      <td>13.541460</td>\n",
              "      <td>1.000000</td>\n",
              "      <td>0.635738</td>\n",
              "      <td>0.000000</td>\n",
              "    </tr>\n",
              "    <tr>\n",
              "      <th>75%</th>\n",
              "      <td>83.364660</td>\n",
              "      <td>4.729167</td>\n",
              "      <td>21.556955</td>\n",
              "      <td>13.789480</td>\n",
              "      <td>2.000000</td>\n",
              "      <td>0.662330</td>\n",
              "      <td>1.000000</td>\n",
              "    </tr>\n",
              "    <tr>\n",
              "      <th>max</th>\n",
              "      <td>86.913590</td>\n",
              "      <td>6.306565</td>\n",
              "      <td>22.209840</td>\n",
              "      <td>14.570900</td>\n",
              "      <td>6.000000</td>\n",
              "      <td>0.712194</td>\n",
              "      <td>1.000000</td>\n",
              "    </tr>\n",
              "  </tbody>\n",
              "</table>\n",
              "</div>\n",
              "    <div class=\"colab-df-buttons\">\n",
              "\n",
              "  <div class=\"colab-df-container\">\n",
              "    <button class=\"colab-df-convert\" onclick=\"convertToInteractive('df-71d6ca7e-0222-49da-9b62-088126c42767')\"\n",
              "            title=\"Convert this dataframe to an interactive table.\"\n",
              "            style=\"display:none;\">\n",
              "\n",
              "  <svg xmlns=\"http://www.w3.org/2000/svg\" height=\"24px\" viewBox=\"0 -960 960 960\">\n",
              "    <path d=\"M120-120v-720h720v720H120Zm60-500h600v-160H180v160Zm220 220h160v-160H400v160Zm0 220h160v-160H400v160ZM180-400h160v-160H180v160Zm440 0h160v-160H620v160ZM180-180h160v-160H180v160Zm440 0h160v-160H620v160Z\"/>\n",
              "  </svg>\n",
              "    </button>\n",
              "\n",
              "  <style>\n",
              "    .colab-df-container {\n",
              "      display:flex;\n",
              "      gap: 12px;\n",
              "    }\n",
              "\n",
              "    .colab-df-convert {\n",
              "      background-color: #E8F0FE;\n",
              "      border: none;\n",
              "      border-radius: 50%;\n",
              "      cursor: pointer;\n",
              "      display: none;\n",
              "      fill: #1967D2;\n",
              "      height: 32px;\n",
              "      padding: 0 0 0 0;\n",
              "      width: 32px;\n",
              "    }\n",
              "\n",
              "    .colab-df-convert:hover {\n",
              "      background-color: #E2EBFA;\n",
              "      box-shadow: 0px 1px 2px rgba(60, 64, 67, 0.3), 0px 1px 3px 1px rgba(60, 64, 67, 0.15);\n",
              "      fill: #174EA6;\n",
              "    }\n",
              "\n",
              "    .colab-df-buttons div {\n",
              "      margin-bottom: 4px;\n",
              "    }\n",
              "\n",
              "    [theme=dark] .colab-df-convert {\n",
              "      background-color: #3B4455;\n",
              "      fill: #D2E3FC;\n",
              "    }\n",
              "\n",
              "    [theme=dark] .colab-df-convert:hover {\n",
              "      background-color: #434B5C;\n",
              "      box-shadow: 0px 1px 3px 1px rgba(0, 0, 0, 0.15);\n",
              "      filter: drop-shadow(0px 1px 2px rgba(0, 0, 0, 0.3));\n",
              "      fill: #FFFFFF;\n",
              "    }\n",
              "  </style>\n",
              "\n",
              "    <script>\n",
              "      const buttonEl =\n",
              "        document.querySelector('#df-71d6ca7e-0222-49da-9b62-088126c42767 button.colab-df-convert');\n",
              "      buttonEl.style.display =\n",
              "        google.colab.kernel.accessAllowed ? 'block' : 'none';\n",
              "\n",
              "      async function convertToInteractive(key) {\n",
              "        const element = document.querySelector('#df-71d6ca7e-0222-49da-9b62-088126c42767');\n",
              "        const dataTable =\n",
              "          await google.colab.kernel.invokeFunction('convertToInteractive',\n",
              "                                                    [key], {});\n",
              "        if (!dataTable) return;\n",
              "\n",
              "        const docLinkHtml = 'Like what you see? Visit the ' +\n",
              "          '<a target=\"_blank\" href=https://colab.research.google.com/notebooks/data_table.ipynb>data table notebook</a>'\n",
              "          + ' to learn more about interactive tables.';\n",
              "        element.innerHTML = '';\n",
              "        dataTable['output_type'] = 'display_data';\n",
              "        await google.colab.output.renderOutput(dataTable, element);\n",
              "        const docLink = document.createElement('div');\n",
              "        docLink.innerHTML = docLinkHtml;\n",
              "        element.appendChild(docLink);\n",
              "      }\n",
              "    </script>\n",
              "  </div>\n",
              "\n",
              "\n",
              "<div id=\"df-4204cb8c-09f0-4cd6-a3a9-d6e1ce17f74c\">\n",
              "  <button class=\"colab-df-quickchart\" onclick=\"quickchart('df-4204cb8c-09f0-4cd6-a3a9-d6e1ce17f74c')\"\n",
              "            title=\"Suggest charts\"\n",
              "            style=\"display:none;\">\n",
              "\n",
              "<svg xmlns=\"http://www.w3.org/2000/svg\" height=\"24px\"viewBox=\"0 0 24 24\"\n",
              "     width=\"24px\">\n",
              "    <g>\n",
              "        <path d=\"M19 3H5c-1.1 0-2 .9-2 2v14c0 1.1.9 2 2 2h14c1.1 0 2-.9 2-2V5c0-1.1-.9-2-2-2zM9 17H7v-7h2v7zm4 0h-2V7h2v10zm4 0h-2v-4h2v4z\"/>\n",
              "    </g>\n",
              "</svg>\n",
              "  </button>\n",
              "\n",
              "<style>\n",
              "  .colab-df-quickchart {\n",
              "      --bg-color: #E8F0FE;\n",
              "      --fill-color: #1967D2;\n",
              "      --hover-bg-color: #E2EBFA;\n",
              "      --hover-fill-color: #174EA6;\n",
              "      --disabled-fill-color: #AAA;\n",
              "      --disabled-bg-color: #DDD;\n",
              "  }\n",
              "\n",
              "  [theme=dark] .colab-df-quickchart {\n",
              "      --bg-color: #3B4455;\n",
              "      --fill-color: #D2E3FC;\n",
              "      --hover-bg-color: #434B5C;\n",
              "      --hover-fill-color: #FFFFFF;\n",
              "      --disabled-bg-color: #3B4455;\n",
              "      --disabled-fill-color: #666;\n",
              "  }\n",
              "\n",
              "  .colab-df-quickchart {\n",
              "    background-color: var(--bg-color);\n",
              "    border: none;\n",
              "    border-radius: 50%;\n",
              "    cursor: pointer;\n",
              "    display: none;\n",
              "    fill: var(--fill-color);\n",
              "    height: 32px;\n",
              "    padding: 0;\n",
              "    width: 32px;\n",
              "  }\n",
              "\n",
              "  .colab-df-quickchart:hover {\n",
              "    background-color: var(--hover-bg-color);\n",
              "    box-shadow: 0 1px 2px rgba(60, 64, 67, 0.3), 0 1px 3px 1px rgba(60, 64, 67, 0.15);\n",
              "    fill: var(--button-hover-fill-color);\n",
              "  }\n",
              "\n",
              "  .colab-df-quickchart-complete:disabled,\n",
              "  .colab-df-quickchart-complete:disabled:hover {\n",
              "    background-color: var(--disabled-bg-color);\n",
              "    fill: var(--disabled-fill-color);\n",
              "    box-shadow: none;\n",
              "  }\n",
              "\n",
              "  .colab-df-spinner {\n",
              "    border: 2px solid var(--fill-color);\n",
              "    border-color: transparent;\n",
              "    border-bottom-color: var(--fill-color);\n",
              "    animation:\n",
              "      spin 1s steps(1) infinite;\n",
              "  }\n",
              "\n",
              "  @keyframes spin {\n",
              "    0% {\n",
              "      border-color: transparent;\n",
              "      border-bottom-color: var(--fill-color);\n",
              "      border-left-color: var(--fill-color);\n",
              "    }\n",
              "    20% {\n",
              "      border-color: transparent;\n",
              "      border-left-color: var(--fill-color);\n",
              "      border-top-color: var(--fill-color);\n",
              "    }\n",
              "    30% {\n",
              "      border-color: transparent;\n",
              "      border-left-color: var(--fill-color);\n",
              "      border-top-color: var(--fill-color);\n",
              "      border-right-color: var(--fill-color);\n",
              "    }\n",
              "    40% {\n",
              "      border-color: transparent;\n",
              "      border-right-color: var(--fill-color);\n",
              "      border-top-color: var(--fill-color);\n",
              "    }\n",
              "    60% {\n",
              "      border-color: transparent;\n",
              "      border-right-color: var(--fill-color);\n",
              "    }\n",
              "    80% {\n",
              "      border-color: transparent;\n",
              "      border-right-color: var(--fill-color);\n",
              "      border-bottom-color: var(--fill-color);\n",
              "    }\n",
              "    90% {\n",
              "      border-color: transparent;\n",
              "      border-bottom-color: var(--fill-color);\n",
              "    }\n",
              "  }\n",
              "</style>\n",
              "\n",
              "  <script>\n",
              "    async function quickchart(key) {\n",
              "      const quickchartButtonEl =\n",
              "        document.querySelector('#' + key + ' button');\n",
              "      quickchartButtonEl.disabled = true;  // To prevent multiple clicks.\n",
              "      quickchartButtonEl.classList.add('colab-df-spinner');\n",
              "      try {\n",
              "        const charts = await google.colab.kernel.invokeFunction(\n",
              "            'suggestCharts', [key], {});\n",
              "      } catch (error) {\n",
              "        console.error('Error during call to suggestCharts:', error);\n",
              "      }\n",
              "      quickchartButtonEl.classList.remove('colab-df-spinner');\n",
              "      quickchartButtonEl.classList.add('colab-df-quickchart-complete');\n",
              "    }\n",
              "    (() => {\n",
              "      let quickchartButtonEl =\n",
              "        document.querySelector('#df-4204cb8c-09f0-4cd6-a3a9-d6e1ce17f74c button');\n",
              "      quickchartButtonEl.style.display =\n",
              "        google.colab.kernel.accessAllowed ? 'block' : 'none';\n",
              "    })();\n",
              "  </script>\n",
              "</div>\n",
              "\n",
              "    </div>\n",
              "  </div>\n"
            ],
            "application/vnd.google.colaboratory.intrinsic+json": {
              "type": "dataframe",
              "summary": "{\n  \"name\": \"df\",\n  \"rows\": 8,\n  \"fields\": [\n    {\n      \"column\": \"RELATIVE HUMIDITY\",\n      \"properties\": {\n        \"dtype\": \"number\",\n        \"std\": 31.652582027201266,\n        \"min\": 2.7995244319652532,\n        \"max\": 86.91359,\n        \"num_unique_values\": 8,\n        \"samples\": [\n          82.01503000000001,\n          82.38972,\n          28.0\n        ],\n        \"semantic_type\": \"\",\n        \"description\": \"\"\n      }\n    },\n    {\n      \"column\": \"RAINFALL INTENSITY\",\n      \"properties\": {\n        \"dtype\": \"number\",\n        \"std\": 8.663766414200934,\n        \"min\": 0.7363456655139488,\n        \"max\": 28.0,\n        \"num_unique_values\": 8,\n        \"samples\": [\n          4.3669610478214285,\n          4.3135384615,\n          28.0\n        ],\n        \"semantic_type\": \"\",\n        \"description\": \"\"\n      }\n    },\n    {\n      \"column\": \"MAX TEMP\",\n      \"properties\": {\n        \"dtype\": \"number\",\n        \"std\": 8.130069876564196,\n        \"min\": 0.3305861565476176,\n        \"max\": 28.0,\n        \"num_unique_values\": 8,\n        \"samples\": [\n          21.4045275,\n          21.35085,\n          28.0\n        ],\n        \"semantic_type\": \"\",\n        \"description\": \"\"\n      }\n    },\n    {\n      \"column\": \"MIN TEMP\",\n      \"properties\": {\n        \"dtype\": \"number\",\n        \"std\": 7.394937962755042,\n        \"min\": 0.4023930966094495,\n        \"max\": 28.0,\n        \"num_unique_values\": 8,\n        \"samples\": [\n          13.600847142857143,\n          13.54146,\n          28.0\n        ],\n        \"semantic_type\": \"\",\n        \"description\": \"\"\n      }\n    },\n    {\n      \"column\": \"WETSPELL\",\n      \"properties\": {\n        \"dtype\": \"number\",\n        \"std\": 9.427569418194471,\n        \"min\": 0.0,\n        \"max\": 28.0,\n        \"num_unique_values\": 8,\n        \"samples\": [\n          1.5714285714285714,\n          1.0,\n          28.0\n        ],\n        \"semantic_type\": \"\",\n        \"description\": \"\"\n      }\n    },\n    {\n      \"column\": \"NDVI\",\n      \"properties\": {\n        \"dtype\": \"number\",\n        \"std\": 9.707711732985771,\n        \"min\": 0.04031691540260352,\n        \"max\": 28.0,\n        \"num_unique_values\": 8,\n        \"samples\": [\n          0.6347991071428571,\n          0.6357385,\n          28.0\n        ],\n        \"semantic_type\": \"\",\n        \"description\": \"\"\n      }\n    },\n    {\n      \"column\": \"OCCURANCE\",\n      \"properties\": {\n        \"dtype\": \"number\",\n        \"std\": 9.769709518655201,\n        \"min\": 0.0,\n        \"max\": 28.0,\n        \"num_unique_values\": 5,\n        \"samples\": [\n          0.2857142857142857,\n          1.0,\n          0.4600437062282362\n        ],\n        \"semantic_type\": \"\",\n        \"description\": \"\"\n      }\n    }\n  ]\n}"
            }
          },
          "metadata": {},
          "execution_count": 12
        }
      ],
      "source": [
        "df.describe()"
      ]
    },
    {
      "cell_type": "code",
      "source": [
        "df.head()"
      ],
      "metadata": {
        "colab": {
          "base_uri": "https://localhost:8080/",
          "height": 224
        },
        "id": "pfPi0qwwtTZJ",
        "outputId": "13619a6e-0d12-4d94-daf0-b91a5b535e5d"
      },
      "execution_count": null,
      "outputs": [
        {
          "output_type": "execute_result",
          "data": {
            "text/plain": [
              "                  DATES  RELATIVE HUMIDITY  RAINFALL INTENSITY  MAX TEMP  \\\n",
              "0  1/03/2010_31/05/2010           85.65389            4.245348  21.78536   \n",
              "1  1/03/2011_31/05/2011           83.22138            3.768467  21.29846   \n",
              "2  1/03/2012_31/05/2012           82.95003            4.666652  21.10165   \n",
              "3  1/03/2013_31/05/2013           83.67963            4.684413  21.19089   \n",
              "4  1/03/2014_31/05/2014           82.48450            3.439935  21.38267   \n",
              "\n",
              "   MIN TEMP  WETSPELL      NDVI  OCCURANCE  \n",
              "0  14.27610         0  0.647290          1  \n",
              "1  13.36172         2  0.618491          0  \n",
              "2  13.44033         0  0.623985          0  \n",
              "3  13.74480         3  0.679300          0  \n",
              "4  13.34079         2  0.599595          1  "
            ],
            "text/html": [
              "\n",
              "  <div id=\"df-9a36acb6-b0db-4782-adcb-d395c129bbbb\" class=\"colab-df-container\">\n",
              "    <div>\n",
              "<style scoped>\n",
              "    .dataframe tbody tr th:only-of-type {\n",
              "        vertical-align: middle;\n",
              "    }\n",
              "\n",
              "    .dataframe tbody tr th {\n",
              "        vertical-align: top;\n",
              "    }\n",
              "\n",
              "    .dataframe thead th {\n",
              "        text-align: right;\n",
              "    }\n",
              "</style>\n",
              "<table border=\"1\" class=\"dataframe\">\n",
              "  <thead>\n",
              "    <tr style=\"text-align: right;\">\n",
              "      <th></th>\n",
              "      <th>DATES</th>\n",
              "      <th>RELATIVE HUMIDITY</th>\n",
              "      <th>RAINFALL INTENSITY</th>\n",
              "      <th>MAX TEMP</th>\n",
              "      <th>MIN TEMP</th>\n",
              "      <th>WETSPELL</th>\n",
              "      <th>NDVI</th>\n",
              "      <th>OCCURANCE</th>\n",
              "    </tr>\n",
              "  </thead>\n",
              "  <tbody>\n",
              "    <tr>\n",
              "      <th>0</th>\n",
              "      <td>1/03/2010_31/05/2010</td>\n",
              "      <td>85.65389</td>\n",
              "      <td>4.245348</td>\n",
              "      <td>21.78536</td>\n",
              "      <td>14.27610</td>\n",
              "      <td>0</td>\n",
              "      <td>0.647290</td>\n",
              "      <td>1</td>\n",
              "    </tr>\n",
              "    <tr>\n",
              "      <th>1</th>\n",
              "      <td>1/03/2011_31/05/2011</td>\n",
              "      <td>83.22138</td>\n",
              "      <td>3.768467</td>\n",
              "      <td>21.29846</td>\n",
              "      <td>13.36172</td>\n",
              "      <td>2</td>\n",
              "      <td>0.618491</td>\n",
              "      <td>0</td>\n",
              "    </tr>\n",
              "    <tr>\n",
              "      <th>2</th>\n",
              "      <td>1/03/2012_31/05/2012</td>\n",
              "      <td>82.95003</td>\n",
              "      <td>4.666652</td>\n",
              "      <td>21.10165</td>\n",
              "      <td>13.44033</td>\n",
              "      <td>0</td>\n",
              "      <td>0.623985</td>\n",
              "      <td>0</td>\n",
              "    </tr>\n",
              "    <tr>\n",
              "      <th>3</th>\n",
              "      <td>1/03/2013_31/05/2013</td>\n",
              "      <td>83.67963</td>\n",
              "      <td>4.684413</td>\n",
              "      <td>21.19089</td>\n",
              "      <td>13.74480</td>\n",
              "      <td>3</td>\n",
              "      <td>0.679300</td>\n",
              "      <td>0</td>\n",
              "    </tr>\n",
              "    <tr>\n",
              "      <th>4</th>\n",
              "      <td>1/03/2014_31/05/2014</td>\n",
              "      <td>82.48450</td>\n",
              "      <td>3.439935</td>\n",
              "      <td>21.38267</td>\n",
              "      <td>13.34079</td>\n",
              "      <td>2</td>\n",
              "      <td>0.599595</td>\n",
              "      <td>1</td>\n",
              "    </tr>\n",
              "  </tbody>\n",
              "</table>\n",
              "</div>\n",
              "    <div class=\"colab-df-buttons\">\n",
              "\n",
              "  <div class=\"colab-df-container\">\n",
              "    <button class=\"colab-df-convert\" onclick=\"convertToInteractive('df-9a36acb6-b0db-4782-adcb-d395c129bbbb')\"\n",
              "            title=\"Convert this dataframe to an interactive table.\"\n",
              "            style=\"display:none;\">\n",
              "\n",
              "  <svg xmlns=\"http://www.w3.org/2000/svg\" height=\"24px\" viewBox=\"0 -960 960 960\">\n",
              "    <path d=\"M120-120v-720h720v720H120Zm60-500h600v-160H180v160Zm220 220h160v-160H400v160Zm0 220h160v-160H400v160ZM180-400h160v-160H180v160Zm440 0h160v-160H620v160ZM180-180h160v-160H180v160Zm440 0h160v-160H620v160Z\"/>\n",
              "  </svg>\n",
              "    </button>\n",
              "\n",
              "  <style>\n",
              "    .colab-df-container {\n",
              "      display:flex;\n",
              "      gap: 12px;\n",
              "    }\n",
              "\n",
              "    .colab-df-convert {\n",
              "      background-color: #E8F0FE;\n",
              "      border: none;\n",
              "      border-radius: 50%;\n",
              "      cursor: pointer;\n",
              "      display: none;\n",
              "      fill: #1967D2;\n",
              "      height: 32px;\n",
              "      padding: 0 0 0 0;\n",
              "      width: 32px;\n",
              "    }\n",
              "\n",
              "    .colab-df-convert:hover {\n",
              "      background-color: #E2EBFA;\n",
              "      box-shadow: 0px 1px 2px rgba(60, 64, 67, 0.3), 0px 1px 3px 1px rgba(60, 64, 67, 0.15);\n",
              "      fill: #174EA6;\n",
              "    }\n",
              "\n",
              "    .colab-df-buttons div {\n",
              "      margin-bottom: 4px;\n",
              "    }\n",
              "\n",
              "    [theme=dark] .colab-df-convert {\n",
              "      background-color: #3B4455;\n",
              "      fill: #D2E3FC;\n",
              "    }\n",
              "\n",
              "    [theme=dark] .colab-df-convert:hover {\n",
              "      background-color: #434B5C;\n",
              "      box-shadow: 0px 1px 3px 1px rgba(0, 0, 0, 0.15);\n",
              "      filter: drop-shadow(0px 1px 2px rgba(0, 0, 0, 0.3));\n",
              "      fill: #FFFFFF;\n",
              "    }\n",
              "  </style>\n",
              "\n",
              "    <script>\n",
              "      const buttonEl =\n",
              "        document.querySelector('#df-9a36acb6-b0db-4782-adcb-d395c129bbbb button.colab-df-convert');\n",
              "      buttonEl.style.display =\n",
              "        google.colab.kernel.accessAllowed ? 'block' : 'none';\n",
              "\n",
              "      async function convertToInteractive(key) {\n",
              "        const element = document.querySelector('#df-9a36acb6-b0db-4782-adcb-d395c129bbbb');\n",
              "        const dataTable =\n",
              "          await google.colab.kernel.invokeFunction('convertToInteractive',\n",
              "                                                    [key], {});\n",
              "        if (!dataTable) return;\n",
              "\n",
              "        const docLinkHtml = 'Like what you see? Visit the ' +\n",
              "          '<a target=\"_blank\" href=https://colab.research.google.com/notebooks/data_table.ipynb>data table notebook</a>'\n",
              "          + ' to learn more about interactive tables.';\n",
              "        element.innerHTML = '';\n",
              "        dataTable['output_type'] = 'display_data';\n",
              "        await google.colab.output.renderOutput(dataTable, element);\n",
              "        const docLink = document.createElement('div');\n",
              "        docLink.innerHTML = docLinkHtml;\n",
              "        element.appendChild(docLink);\n",
              "      }\n",
              "    </script>\n",
              "  </div>\n",
              "\n",
              "\n",
              "<div id=\"df-b470cfc3-fa0d-433a-bade-889d4459227f\">\n",
              "  <button class=\"colab-df-quickchart\" onclick=\"quickchart('df-b470cfc3-fa0d-433a-bade-889d4459227f')\"\n",
              "            title=\"Suggest charts\"\n",
              "            style=\"display:none;\">\n",
              "\n",
              "<svg xmlns=\"http://www.w3.org/2000/svg\" height=\"24px\"viewBox=\"0 0 24 24\"\n",
              "     width=\"24px\">\n",
              "    <g>\n",
              "        <path d=\"M19 3H5c-1.1 0-2 .9-2 2v14c0 1.1.9 2 2 2h14c1.1 0 2-.9 2-2V5c0-1.1-.9-2-2-2zM9 17H7v-7h2v7zm4 0h-2V7h2v10zm4 0h-2v-4h2v4z\"/>\n",
              "    </g>\n",
              "</svg>\n",
              "  </button>\n",
              "\n",
              "<style>\n",
              "  .colab-df-quickchart {\n",
              "      --bg-color: #E8F0FE;\n",
              "      --fill-color: #1967D2;\n",
              "      --hover-bg-color: #E2EBFA;\n",
              "      --hover-fill-color: #174EA6;\n",
              "      --disabled-fill-color: #AAA;\n",
              "      --disabled-bg-color: #DDD;\n",
              "  }\n",
              "\n",
              "  [theme=dark] .colab-df-quickchart {\n",
              "      --bg-color: #3B4455;\n",
              "      --fill-color: #D2E3FC;\n",
              "      --hover-bg-color: #434B5C;\n",
              "      --hover-fill-color: #FFFFFF;\n",
              "      --disabled-bg-color: #3B4455;\n",
              "      --disabled-fill-color: #666;\n",
              "  }\n",
              "\n",
              "  .colab-df-quickchart {\n",
              "    background-color: var(--bg-color);\n",
              "    border: none;\n",
              "    border-radius: 50%;\n",
              "    cursor: pointer;\n",
              "    display: none;\n",
              "    fill: var(--fill-color);\n",
              "    height: 32px;\n",
              "    padding: 0;\n",
              "    width: 32px;\n",
              "  }\n",
              "\n",
              "  .colab-df-quickchart:hover {\n",
              "    background-color: var(--hover-bg-color);\n",
              "    box-shadow: 0 1px 2px rgba(60, 64, 67, 0.3), 0 1px 3px 1px rgba(60, 64, 67, 0.15);\n",
              "    fill: var(--button-hover-fill-color);\n",
              "  }\n",
              "\n",
              "  .colab-df-quickchart-complete:disabled,\n",
              "  .colab-df-quickchart-complete:disabled:hover {\n",
              "    background-color: var(--disabled-bg-color);\n",
              "    fill: var(--disabled-fill-color);\n",
              "    box-shadow: none;\n",
              "  }\n",
              "\n",
              "  .colab-df-spinner {\n",
              "    border: 2px solid var(--fill-color);\n",
              "    border-color: transparent;\n",
              "    border-bottom-color: var(--fill-color);\n",
              "    animation:\n",
              "      spin 1s steps(1) infinite;\n",
              "  }\n",
              "\n",
              "  @keyframes spin {\n",
              "    0% {\n",
              "      border-color: transparent;\n",
              "      border-bottom-color: var(--fill-color);\n",
              "      border-left-color: var(--fill-color);\n",
              "    }\n",
              "    20% {\n",
              "      border-color: transparent;\n",
              "      border-left-color: var(--fill-color);\n",
              "      border-top-color: var(--fill-color);\n",
              "    }\n",
              "    30% {\n",
              "      border-color: transparent;\n",
              "      border-left-color: var(--fill-color);\n",
              "      border-top-color: var(--fill-color);\n",
              "      border-right-color: var(--fill-color);\n",
              "    }\n",
              "    40% {\n",
              "      border-color: transparent;\n",
              "      border-right-color: var(--fill-color);\n",
              "      border-top-color: var(--fill-color);\n",
              "    }\n",
              "    60% {\n",
              "      border-color: transparent;\n",
              "      border-right-color: var(--fill-color);\n",
              "    }\n",
              "    80% {\n",
              "      border-color: transparent;\n",
              "      border-right-color: var(--fill-color);\n",
              "      border-bottom-color: var(--fill-color);\n",
              "    }\n",
              "    90% {\n",
              "      border-color: transparent;\n",
              "      border-bottom-color: var(--fill-color);\n",
              "    }\n",
              "  }\n",
              "</style>\n",
              "\n",
              "  <script>\n",
              "    async function quickchart(key) {\n",
              "      const quickchartButtonEl =\n",
              "        document.querySelector('#' + key + ' button');\n",
              "      quickchartButtonEl.disabled = true;  // To prevent multiple clicks.\n",
              "      quickchartButtonEl.classList.add('colab-df-spinner');\n",
              "      try {\n",
              "        const charts = await google.colab.kernel.invokeFunction(\n",
              "            'suggestCharts', [key], {});\n",
              "      } catch (error) {\n",
              "        console.error('Error during call to suggestCharts:', error);\n",
              "      }\n",
              "      quickchartButtonEl.classList.remove('colab-df-spinner');\n",
              "      quickchartButtonEl.classList.add('colab-df-quickchart-complete');\n",
              "    }\n",
              "    (() => {\n",
              "      let quickchartButtonEl =\n",
              "        document.querySelector('#df-b470cfc3-fa0d-433a-bade-889d4459227f button');\n",
              "      quickchartButtonEl.style.display =\n",
              "        google.colab.kernel.accessAllowed ? 'block' : 'none';\n",
              "    })();\n",
              "  </script>\n",
              "</div>\n",
              "\n",
              "    </div>\n",
              "  </div>\n"
            ],
            "application/vnd.google.colaboratory.intrinsic+json": {
              "type": "dataframe",
              "variable_name": "df",
              "summary": "{\n  \"name\": \"df\",\n  \"rows\": 28,\n  \"fields\": [\n    {\n      \"column\": \"DATES\",\n      \"properties\": {\n        \"dtype\": \"string\",\n        \"num_unique_values\": 28,\n        \"samples\": [\n          \"1/03/2019_31/05/2019\",\n          \"1/09/2021_30/11/2021\",\n          \"1/03/2018_31/05/2018\"\n        ],\n        \"semantic_type\": \"\",\n        \"description\": \"\"\n      }\n    },\n    {\n      \"column\": \"RELATIVE HUMIDITY\",\n      \"properties\": {\n        \"dtype\": \"number\",\n        \"std\": 2.7995244319652532,\n        \"min\": 76.80823,\n        \"max\": 86.91359,\n        \"num_unique_values\": 28,\n        \"samples\": [\n          83.25967,\n          80.05094,\n          86.91359\n        ],\n        \"semantic_type\": \"\",\n        \"description\": \"\"\n      }\n    },\n    {\n      \"column\": \"RAINFALL INTENSITY\",\n      \"properties\": {\n        \"dtype\": \"number\",\n        \"std\": 0.7363456655139488,\n        \"min\": 2.996652174,\n        \"max\": 6.306565217,\n        \"num_unique_values\": 28,\n        \"samples\": [\n          3.501065217,\n          3.673417582,\n          6.306565217\n        ],\n        \"semantic_type\": \"\",\n        \"description\": \"\"\n      }\n    },\n    {\n      \"column\": \"MAX TEMP\",\n      \"properties\": {\n        \"dtype\": \"number\",\n        \"std\": 0.3305861565476176,\n        \"min\": 20.74153,\n        \"max\": 22.20984,\n        \"num_unique_values\": 28,\n        \"samples\": [\n          21.86274,\n          21.54695,\n          21.02518\n        ],\n        \"semantic_type\": \"\",\n        \"description\": \"\"\n      }\n    },\n    {\n      \"column\": \"MIN TEMP\",\n      \"properties\": {\n        \"dtype\": \"number\",\n        \"std\": 0.4023930966094495,\n        \"min\": 12.94113,\n        \"max\": 14.5709,\n        \"num_unique_values\": 28,\n        \"samples\": [\n          13.94155,\n          13.4902,\n          13.86181\n        ],\n        \"semantic_type\": \"\",\n        \"description\": \"\"\n      }\n    },\n    {\n      \"column\": \"WETSPELL\",\n      \"properties\": {\n        \"dtype\": \"number\",\n        \"std\": 1,\n        \"min\": 0,\n        \"max\": 6,\n        \"num_unique_values\": 6,\n        \"samples\": [\n          0,\n          2,\n          4\n        ],\n        \"semantic_type\": \"\",\n        \"description\": \"\"\n      }\n    },\n    {\n      \"column\": \"NDVI\",\n      \"properties\": {\n        \"dtype\": \"number\",\n        \"std\": 0.04031691540260352,\n        \"min\": 0.554108,\n        \"max\": 0.712194,\n        \"num_unique_values\": 28,\n        \"samples\": [\n          0.666147,\n          0.655711,\n          0.637576\n        ],\n        \"semantic_type\": \"\",\n        \"description\": \"\"\n      }\n    },\n    {\n      \"column\": \"OCCURANCE\",\n      \"properties\": {\n        \"dtype\": \"number\",\n        \"std\": 0,\n        \"min\": 0,\n        \"max\": 1,\n        \"num_unique_values\": 2,\n        \"samples\": [\n          0,\n          1\n        ],\n        \"semantic_type\": \"\",\n        \"description\": \"\"\n      }\n    }\n  ]\n}"
            }
          },
          "metadata": {},
          "execution_count": 13
        }
      ]
    },
    {
      "cell_type": "code",
      "execution_count": null,
      "metadata": {
        "colab": {
          "base_uri": "https://localhost:8080/",
          "height": 562
        },
        "id": "t8VHFTNFr4f5",
        "outputId": "df6ca7de-70bf-4235-89f1-74e82bd2ec81"
      },
      "outputs": [
        {
          "output_type": "display_data",
          "data": {
            "text/plain": [
              "<Figure size 640x480 with 2 Axes>"
            ],
            "image/png": "[encoded data removed]"
          },
          "metadata": {}
        }
      ],
      "source": [
        "import seaborn as sns\n",
        "\n",
        "# Select the desired columns\n",
        "cols = ['RELATIVE HUMIDITY', 'RAINFALL INTENSITY', 'MAX TEMP', 'MIN TEMP', 'WETSPELL', 'NDVI', 'OCCURANCE']\n",
        "\n",
        "# Create a heatmap\n",
        "sns.heatmap(df[cols].corr(), annot=True)\n",
        "plt.show()\n"
      ]
    },
    {
      "cell_type": "code",
      "execution_count": null,
      "metadata": {
        "colab": {
          "base_uri": "https://localhost:8080/",
          "height": 459
        },
        "id": "ojRg7mlfnT8h",
        "outputId": "70762fd6-e5ed-4926-d659-c682de783bd3"
      },
      "outputs": [
        {
          "output_type": "execute_result",
          "data": {
            "text/html": [
              "\n",
              "<div id=\"altair-viz-53b0ee51c9064b4b85763e691ad5fcdf\"></div>\n",
              "<script type=\"text/javascript\">\n",
              "  var VEGA_DEBUG = (typeof VEGA_DEBUG == \"undefined\") ? {} : VEGA_DEBUG;\n",
              "  (function(spec, embedOpt){\n",
              "    let outputDiv = document.currentScript.previousElementSibling;\n",
              "    if (outputDiv.id !== \"altair-viz-53b0ee51c9064b4b85763e691ad5fcdf\") {\n",
              "      outputDiv = document.getElementById(\"altair-viz-53b0ee51c9064b4b85763e691ad5fcdf\");\n",
              "    }\n",
              "    const paths = {\n",
              "      \"vega\": \"https://cdn.jsdelivr.net/npm//vega@5?noext\",\n",
              "      \"vega-lib\": \"https://cdn.jsdelivr.net/npm//vega-lib?noext\",\n",
              "      \"vega-lite\": \"https://cdn.jsdelivr.net/npm//vega-lite@4.17.0?noext\",\n",
              "      \"vega-embed\": \"https://cdn.jsdelivr.net/npm//vega-embed@6?noext\",\n",
              "    };\n",
              "\n",
              "    function maybeLoadScript(lib, version) {\n",
              "      var key = `${lib.replace(\"-\", \"\")}_version`;\n",
              "      return (VEGA_DEBUG[key] == version) ?\n",
              "        Promise.resolve(paths[lib]) :\n",
              "        new Promise(function(resolve, reject) {\n",
              "          var s = document.createElement('script');\n",
              "          document.getElementsByTagName(\"head\")[0].appendChild(s);\n",
              "          s.async = true;\n",
              "          s.onload = () => {\n",
              "            VEGA_DEBUG[key] = version;\n",
              "            return resolve(paths[lib]);\n",
              "          };\n",
              "          s.onerror = () => reject(`Error loading script: ${paths[lib]}`);\n",
              "          s.src = paths[lib];\n",
              "        });\n",
              "    }\n",
              "\n",
              "    function showError(err) {\n",
              "      outputDiv.innerHTML = `<div class=\"error\" style=\"color:red;\">${err}</div>`;\n",
              "      throw err;\n",
              "    }\n",
              "\n",
              "    function displayChart(vegaEmbed) {\n",
              "      vegaEmbed(outputDiv, spec, embedOpt)\n",
              "        .catch(err => showError(`Javascript Error: ${err.message}<br>This usually means there's a typo in your chart specification. See the javascript console for the full traceback.`));\n",
              "    }\n",
              "\n",
              "    if(typeof define === \"function\" && define.amd) {\n",
              "      requirejs.config({paths});\n",
              "      require([\"vega-embed\"], displayChart, err => showError(`Error loading script: ${err.message}`));\n",
              "    } else {\n",
              "      maybeLoadScript(\"vega\", \"5\")\n",
              "        .then(() => maybeLoadScript(\"vega-lite\", \"4.17.0\"))\n",
              "        .then(() => maybeLoadScript(\"vega-embed\", \"6\"))\n",
              "        .catch(showError)\n",
              "        .then(() => displayChart(vegaEmbed));\n",
              "    }\n",
              "  })({\"config\": {\"view\": {\"continuousWidth\": 400, \"continuousHeight\": 300}}, \"data\": {\"name\": \"data-22bed20d69f89da88e8b4beb84318586\"}, \"mark\": \"line\", \"encoding\": {\"x\": {\"field\": \"DATES\", \"type\": \"nominal\"}, \"y\": {\"field\": \"RELATIVE HUMIDITY\", \"type\": \"quantitative\"}}, \"$schema\": \"https://vega.github.io/schema/vega-lite/v4.17.0.json\", \"datasets\": {\"data-22bed20d69f89da88e8b4beb84318586\": [{\"DATES\": \"1/03/2010_31/05/2010\", \"RELATIVE HUMIDITY\": 85.65389, \"RAINFALL INTENSITY\": 4.245347826, \"MAX TEMP\": 21.78536, \"MIN TEMP\": 14.2761, \"WETSPELL\": 0, \"NDVI\": 0.64729, \"OCCURANCE\": 1}, {\"DATES\": \"1/03/2011_31/05/2011\", \"RELATIVE HUMIDITY\": 83.22138, \"RAINFALL INTENSITY\": 3.768467391, \"MAX TEMP\": 21.29846, \"MIN TEMP\": 13.36172, \"WETSPELL\": 2, \"NDVI\": 0.618491, \"OCCURANCE\": 0}, {\"DATES\": \"1/03/2012_31/05/2012\", \"RELATIVE HUMIDITY\": 82.95003, \"RAINFALL INTENSITY\": 4.666652174, \"MAX TEMP\": 21.10165, \"MIN TEMP\": 13.44033, \"WETSPELL\": 0, \"NDVI\": 0.623985, \"OCCURANCE\": 0}, {\"DATES\": \"1/03/2013_31/05/2013\", \"RELATIVE HUMIDITY\": 83.67963, \"RAINFALL INTENSITY\": 4.684413043, \"MAX TEMP\": 21.19089, \"MIN TEMP\": 13.7448, \"WETSPELL\": 3, \"NDVI\": 0.6793, \"OCCURANCE\": 0}, {\"DATES\": \"1/03/2014_31/05/2014\", \"RELATIVE HUMIDITY\": 82.4845, \"RAINFALL INTENSITY\": 3.439934783, \"MAX TEMP\": 21.38267, \"MIN TEMP\": 13.34079, \"WETSPELL\": 2, \"NDVI\": 0.599595, \"OCCURANCE\": 1}, {\"DATES\": \"1/03/2015_31/05/2015\", \"RELATIVE HUMIDITY\": 82.03391, \"RAINFALL INTENSITY\": 4.277826087, \"MAX TEMP\": 21.40103, \"MIN TEMP\": 13.76537, \"WETSPELL\": 0, \"NDVI\": 0.632378, \"OCCURANCE\": 0}, {\"DATES\": \"1/03/2016_31/05/2016\", \"RELATIVE HUMIDITY\": 82.96507, \"RAINFALL INTENSITY\": 4.723413043, \"MAX TEMP\": 22.15992, \"MIN TEMP\": 14.5709, \"WETSPELL\": 1, \"NDVI\": 0.6603, \"OCCURANCE\": 0}, {\"DATES\": \"1/03/2017_31/05/2017\", \"RELATIVE HUMIDITY\": 82.16143, \"RAINFALL INTENSITY\": 2.996652174, \"MAX TEMP\": 21.53163, \"MIN TEMP\": 13.70898, \"WETSPELL\": 0, \"NDVI\": 0.63864, \"OCCURANCE\": 0}, {\"DATES\": \"1/03/2018_31/05/2018\", \"RELATIVE HUMIDITY\": 86.91359, \"RAINFALL INTENSITY\": 6.306565217, \"MAX TEMP\": 21.02518, \"MIN TEMP\": 13.86181, \"WETSPELL\": 6, \"NDVI\": 0.637576, \"OCCURANCE\": 0}, {\"DATES\": \"1/03/2019_31/05/2019\", \"RELATIVE HUMIDITY\": 83.25967, \"RAINFALL INTENSITY\": 3.501065217, \"MAX TEMP\": 21.86274, \"MIN TEMP\": 13.94155, \"WETSPELL\": 2, \"NDVI\": 0.666147, \"OCCURANCE\": 0}, {\"DATES\": \"1/03/2020_31/05/2020\", \"RELATIVE HUMIDITY\": 86.40071, \"RAINFALL INTENSITY\": 3.867630435, \"MAX TEMP\": 21.6721, \"MIN TEMP\": 14.36964, \"WETSPELL\": 1, \"NDVI\": 0.697276, \"OCCURANCE\": 1}, {\"DATES\": \"1/03/2021_31/05/2021\", \"RELATIVE HUMIDITY\": 86.19531, \"RAINFALL INTENSITY\": 3.01301087, \"MAX TEMP\": 21.17467, \"MIN TEMP\": 13.67791, \"WETSPELL\": 0, \"NDVI\": 0.712194, \"OCCURANCE\": 0}, {\"DATES\": \"1/03/2022_31/05/2022\", \"RELATIVE HUMIDITY\": 84.86891, \"RAINFALL INTENSITY\": 3.950445652, \"MAX TEMP\": 21.43437, \"MIN TEMP\": 13.66106, \"WETSPELL\": 0, \"NDVI\": 0.666625, \"OCCURANCE\": 1}, {\"DATES\": \"1/03/2023_31/05/2023\", \"RELATIVE HUMIDITY\": 84.80735, \"RAINFALL INTENSITY\": 5.331826087, \"MAX TEMP\": 21.30018, \"MIN TEMP\": 13.94332, \"WETSPELL\": 2, \"NDVI\": 0.694266, \"OCCURANCE\": 1}, {\"DATES\": \"1/09/2010_30/11/2010\", \"RELATIVE HUMIDITY\": 76.80823, \"RAINFALL INTENSITY\": 4.828395604, \"MAX TEMP\": 21.58697, \"MIN TEMP\": 13.24299, \"WETSPELL\": 4, \"NDVI\": 0.554108, \"OCCURANCE\": 0}, {\"DATES\": \"1/09/2011_30/11/2011\", \"RELATIVE HUMIDITY\": 82.85559, \"RAINFALL INTENSITY\": 5.200582418, \"MAX TEMP\": 20.74153, \"MIN TEMP\": 13.06052, \"WETSPELL\": 4, \"NDVI\": 0.633901, \"OCCURANCE\": 1}, {\"DATES\": \"1/09/2012_30/11/2012\", \"RELATIVE HUMIDITY\": 79.32268, \"RAINFALL INTENSITY\": 4.515912088, \"MAX TEMP\": 21.22764, \"MIN TEMP\": 13.06305, \"WETSPELL\": 1, \"NDVI\": 0.612146, \"OCCURANCE\": 0}, {\"DATES\": \"1/09/2013_30/11/2013\", \"RELATIVE HUMIDITY\": 77.01799, \"RAINFALL INTENSITY\": 4.149527473, \"MAX TEMP\": 21.28469, \"MIN TEMP\": 12.94113, \"WETSPELL\": 1, \"NDVI\": 0.577924, \"OCCURANCE\": 0}, {\"DATES\": \"1/09/2014_30/11/2014\", \"RELATIVE HUMIDITY\": 80.17622, \"RAINFALL INTENSITY\": 4.065087912, \"MAX TEMP\": 21.23585, \"MIN TEMP\": 13.10908, \"WETSPELL\": 1, \"NDVI\": 0.596142, \"OCCURANCE\": 0}, {\"DATES\": \"1/09/2015_30/11/2015\", \"RELATIVE HUMIDITY\": 79.76951, \"RAINFALL INTENSITY\": 4.746428571, \"MAX TEMP\": 21.63938, \"MIN TEMP\": 13.59272, \"WETSPELL\": 3, \"NDVI\": 0.575178, \"OCCURANCE\": 0}, {\"DATES\": \"1/09/2016_30/11/2016\", \"RELATIVE HUMIDITY\": 77.28958, \"RAINFALL INTENSITY\": 5.421483516, \"MAX TEMP\": 22.20984, \"MIN TEMP\": 13.73655, \"WETSPELL\": 2, \"NDVI\": 0.605051, \"OCCURANCE\": 0}, {\"DATES\": \"1/09/2017_30/11/2017\", \"RELATIVE HUMIDITY\": 78.5831, \"RAINFALL INTENSITY\": 5.168406593, \"MAX TEMP\": 21.42541, \"MIN TEMP\": 13.30362, \"WETSPELL\": 0, \"NDVI\": 0.579081, \"OCCURANCE\": 0}, {\"DATES\": \"1/09/2018_30/11/2018\", \"RELATIVE HUMIDITY\": 80.07997, \"RAINFALL INTENSITY\": 4.183857143, \"MAX TEMP\": 21.48962, \"MIN TEMP\": 13.32879, \"WETSPELL\": 2, \"NDVI\": 0.592061, \"OCCURANCE\": 0}, {\"DATES\": \"1/09/2019_30/11/2019\", \"RELATIVE HUMIDITY\": 82.73625, \"RAINFALL INTENSITY\": 4.308934066, \"MAX TEMP\": 21.0615, \"MIN TEMP\": 13.30294, \"WETSPELL\": 1, \"NDVI\": 0.633165, \"OCCURANCE\": 0}, {\"DATES\": \"1/09/2020_30/11/2020\", \"RELATIVE HUMIDITY\": 81.53673, \"RAINFALL INTENSITY\": 4.47478022, \"MAX TEMP\": 21.19892, \"MIN TEMP\": 13.48958, \"WETSPELL\": 1, \"NDVI\": 0.67352, \"OCCURANCE\": 0}, {\"DATES\": \"1/09/2021_30/11/2021\", \"RELATIVE HUMIDITY\": 80.05094, \"RAINFALL INTENSITY\": 3.673417582, \"MAX TEMP\": 21.54695, \"MIN TEMP\": 13.4902, \"WETSPELL\": 1, \"NDVI\": 0.655711, \"OCCURANCE\": 0}, {\"DATES\": \"1/09/2022_30/11/2022\", \"RELATIVE HUMIDITY\": 82.29494, \"RAINFALL INTENSITY\": 4.446703297, \"MAX TEMP\": 21.03859, \"MIN TEMP\": 13.48622, \"WETSPELL\": 3, \"NDVI\": 0.661058, \"OCCURANCE\": 1}, {\"DATES\": \"1/09/2023_30/11/2023\", \"RELATIVE HUMIDITY\": 80.30373, \"RAINFALL INTENSITY\": 4.318142857, \"MAX TEMP\": 21.31903, \"MIN TEMP\": 14.01205, \"WETSPELL\": 1, \"NDVI\": 0.651266, \"OCCURANCE\": 1}]}}, {\"mode\": \"vega-lite\"});\n",
              "</script>"
            ],
            "text/plain": [
              "alt.Chart(...)"
            ]
          },
          "metadata": {},
          "execution_count": 15
        }
      ],
      "source": [
        "# @title DATES vs RELATIVE HUMIDITY\n",
        "alt.Chart(df).mark_line().encode(x='DATES', y='RELATIVE HUMIDITY')"
      ]
    },
    {
      "cell_type": "code",
      "execution_count": null,
      "metadata": {
        "colab": {
          "base_uri": "https://localhost:8080/",
          "height": 459
        },
        "id": "veRPlUBWndWi",
        "outputId": "6c1a7295-9f28-4f7f-cefc-c97ab055afb2"
      },
      "outputs": [
        {
          "output_type": "execute_result",
          "data": {
            "text/html": [
              "\n",
              "<div id=\"altair-viz-cfea082adfba42d39abaab25ac506f8a\"></div>\n",
              "<script type=\"text/javascript\">\n",
              "  var VEGA_DEBUG = (typeof VEGA_DEBUG == \"undefined\") ? {} : VEGA_DEBUG;\n",
              "  (function(spec, embedOpt){\n",
              "    let outputDiv = document.currentScript.previousElementSibling;\n",
              "    if (outputDiv.id !== \"altair-viz-cfea082adfba42d39abaab25ac506f8a\") {\n",
              "      outputDiv = document.getElementById(\"altair-viz-cfea082adfba42d39abaab25ac506f8a\");\n",
              "    }\n",
              "    const paths = {\n",
              "      \"vega\": \"https://cdn.jsdelivr.net/npm//vega@5?noext\",\n",
              "      \"vega-lib\": \"https://cdn.jsdelivr.net/npm//vega-lib?noext\",\n",
              "      \"vega-lite\": \"https://cdn.jsdelivr.net/npm//vega-lite@4.17.0?noext\",\n",
              "      \"vega-embed\": \"https://cdn.jsdelivr.net/npm//vega-embed@6?noext\",\n",
              "    };\n",
              "\n",
              "    function maybeLoadScript(lib, version) {\n",
              "      var key = `${lib.replace(\"-\", \"\")}_version`;\n",
              "      return (VEGA_DEBUG[key] == version) ?\n",
              "        Promise.resolve(paths[lib]) :\n",
              "        new Promise(function(resolve, reject) {\n",
              "          var s = document.createElement('script');\n",
              "          document.getElementsByTagName(\"head\")[0].appendChild(s);\n",
              "          s.async = true;\n",
              "          s.onload = () => {\n",
              "            VEGA_DEBUG[key] = version;\n",
              "            return resolve(paths[lib]);\n",
              "          };\n",
              "          s.onerror = () => reject(`Error loading script: ${paths[lib]}`);\n",
              "          s.src = paths[lib];\n",
              "        });\n",
              "    }\n",
              "\n",
              "    function showError(err) {\n",
              "      outputDiv.innerHTML = `<div class=\"error\" style=\"color:red;\">${err}</div>`;\n",
              "      throw err;\n",
              "    }\n",
              "\n",
              "    function displayChart(vegaEmbed) {\n",
              "      vegaEmbed(outputDiv, spec, embedOpt)\n",
              "        .catch(err => showError(`Javascript Error: ${err.message}<br>This usually means there's a typo in your chart specification. See the javascript console for the full traceback.`));\n",
              "    }\n",
              "\n",
              "    if(typeof define === \"function\" && define.amd) {\n",
              "      requirejs.config({paths});\n",
              "      require([\"vega-embed\"], displayChart, err => showError(`Error loading script: ${err.message}`));\n",
              "    } else {\n",
              "      maybeLoadScript(\"vega\", \"5\")\n",
              "        .then(() => maybeLoadScript(\"vega-lite\", \"4.17.0\"))\n",
              "        .then(() => maybeLoadScript(\"vega-embed\", \"6\"))\n",
              "        .catch(showError)\n",
              "        .then(() => displayChart(vegaEmbed));\n",
              "    }\n",
              "  })({\"config\": {\"view\": {\"continuousWidth\": 400, \"continuousHeight\": 300}}, \"data\": {\"name\": \"data-22bed20d69f89da88e8b4beb84318586\"}, \"mark\": \"line\", \"encoding\": {\"x\": {\"field\": \"DATES\", \"type\": \"nominal\"}, \"y\": {\"field\": \"OCCURANCE\", \"type\": \"quantitative\"}}, \"$schema\": \"https://vega.github.io/schema/vega-lite/v4.17.0.json\", \"datasets\": {\"data-22bed20d69f89da88e8b4beb84318586\": [{\"DATES\": \"1/03/2010_31/05/2010\", \"RELATIVE HUMIDITY\": 85.65389, \"RAINFALL INTENSITY\": 4.245347826, \"MAX TEMP\": 21.78536, \"MIN TEMP\": 14.2761, \"WETSPELL\": 0, \"NDVI\": 0.64729, \"OCCURANCE\": 1}, {\"DATES\": \"1/03/2011_31/05/2011\", \"RELATIVE HUMIDITY\": 83.22138, \"RAINFALL INTENSITY\": 3.768467391, \"MAX TEMP\": 21.29846, \"MIN TEMP\": 13.36172, \"WETSPELL\": 2, \"NDVI\": 0.618491, \"OCCURANCE\": 0}, {\"DATES\": \"1/03/2012_31/05/2012\", \"RELATIVE HUMIDITY\": 82.95003, \"RAINFALL INTENSITY\": 4.666652174, \"MAX TEMP\": 21.10165, \"MIN TEMP\": 13.44033, \"WETSPELL\": 0, \"NDVI\": 0.623985, \"OCCURANCE\": 0}, {\"DATES\": \"1/03/2013_31/05/2013\", \"RELATIVE HUMIDITY\": 83.67963, \"RAINFALL INTENSITY\": 4.684413043, \"MAX TEMP\": 21.19089, \"MIN TEMP\": 13.7448, \"WETSPELL\": 3, \"NDVI\": 0.6793, \"OCCURANCE\": 0}, {\"DATES\": \"1/03/2014_31/05/2014\", \"RELATIVE HUMIDITY\": 82.4845, \"RAINFALL INTENSITY\": 3.439934783, \"MAX TEMP\": 21.38267, \"MIN TEMP\": 13.34079, \"WETSPELL\": 2, \"NDVI\": 0.599595, \"OCCURANCE\": 1}, {\"DATES\": \"1/03/2015_31/05/2015\", \"RELATIVE HUMIDITY\": 82.03391, \"RAINFALL INTENSITY\": 4.277826087, \"MAX TEMP\": 21.40103, \"MIN TEMP\": 13.76537, \"WETSPELL\": 0, \"NDVI\": 0.632378, \"OCCURANCE\": 0}, {\"DATES\": \"1/03/2016_31/05/2016\", \"RELATIVE HUMIDITY\": 82.96507, \"RAINFALL INTENSITY\": 4.723413043, \"MAX TEMP\": 22.15992, \"MIN TEMP\": 14.5709, \"WETSPELL\": 1, \"NDVI\": 0.6603, \"OCCURANCE\": 0}, {\"DATES\": \"1/03/2017_31/05/2017\", \"RELATIVE HUMIDITY\": 82.16143, \"RAINFALL INTENSITY\": 2.996652174, \"MAX TEMP\": 21.53163, \"MIN TEMP\": 13.70898, \"WETSPELL\": 0, \"NDVI\": 0.63864, \"OCCURANCE\": 0}, {\"DATES\": \"1/03/2018_31/05/2018\", \"RELATIVE HUMIDITY\": 86.91359, \"RAINFALL INTENSITY\": 6.306565217, \"MAX TEMP\": 21.02518, \"MIN TEMP\": 13.86181, \"WETSPELL\": 6, \"NDVI\": 0.637576, \"OCCURANCE\": 0}, {\"DATES\": \"1/03/2019_31/05/2019\", \"RELATIVE HUMIDITY\": 83.25967, \"RAINFALL INTENSITY\": 3.501065217, \"MAX TEMP\": 21.86274, \"MIN TEMP\": 13.94155, \"WETSPELL\": 2, \"NDVI\": 0.666147, \"OCCURANCE\": 0}, {\"DATES\": \"1/03/2020_31/05/2020\", \"RELATIVE HUMIDITY\": 86.40071, \"RAINFALL INTENSITY\": 3.867630435, \"MAX TEMP\": 21.6721, \"MIN TEMP\": 14.36964, \"WETSPELL\": 1, \"NDVI\": 0.697276, \"OCCURANCE\": 1}, {\"DATES\": \"1/03/2021_31/05/2021\", \"RELATIVE HUMIDITY\": 86.19531, \"RAINFALL INTENSITY\": 3.01301087, \"MAX TEMP\": 21.17467, \"MIN TEMP\": 13.67791, \"WETSPELL\": 0, \"NDVI\": 0.712194, \"OCCURANCE\": 0}, {\"DATES\": \"1/03/2022_31/05/2022\", \"RELATIVE HUMIDITY\": 84.86891, \"RAINFALL INTENSITY\": 3.950445652, \"MAX TEMP\": 21.43437, \"MIN TEMP\": 13.66106, \"WETSPELL\": 0, \"NDVI\": 0.666625, \"OCCURANCE\": 1}, {\"DATES\": \"1/03/2023_31/05/2023\", \"RELATIVE HUMIDITY\": 84.80735, \"RAINFALL INTENSITY\": 5.331826087, \"MAX TEMP\": 21.30018, \"MIN TEMP\": 13.94332, \"WETSPELL\": 2, \"NDVI\": 0.694266, \"OCCURANCE\": 1}, {\"DATES\": \"1/09/2010_30/11/2010\", \"RELATIVE HUMIDITY\": 76.80823, \"RAINFALL INTENSITY\": 4.828395604, \"MAX TEMP\": 21.58697, \"MIN TEMP\": 13.24299, \"WETSPELL\": 4, \"NDVI\": 0.554108, \"OCCURANCE\": 0}, {\"DATES\": \"1/09/2011_30/11/2011\", \"RELATIVE HUMIDITY\": 82.85559, \"RAINFALL INTENSITY\": 5.200582418, \"MAX TEMP\": 20.74153, \"MIN TEMP\": 13.06052, \"WETSPELL\": 4, \"NDVI\": 0.633901, \"OCCURANCE\": 1}, {\"DATES\": \"1/09/2012_30/11/2012\", \"RELATIVE HUMIDITY\": 79.32268, \"RAINFALL INTENSITY\": 4.515912088, \"MAX TEMP\": 21.22764, \"MIN TEMP\": 13.06305, \"WETSPELL\": 1, \"NDVI\": 0.612146, \"OCCURANCE\": 0}, {\"DATES\": \"1/09/2013_30/11/2013\", \"RELATIVE HUMIDITY\": 77.01799, \"RAINFALL INTENSITY\": 4.149527473, \"MAX TEMP\": 21.28469, \"MIN TEMP\": 12.94113, \"WETSPELL\": 1, \"NDVI\": 0.577924, \"OCCURANCE\": 0}, {\"DATES\": \"1/09/2014_30/11/2014\", \"RELATIVE HUMIDITY\": 80.17622, \"RAINFALL INTENSITY\": 4.065087912, \"MAX TEMP\": 21.23585, \"MIN TEMP\": 13.10908, \"WETSPELL\": 1, \"NDVI\": 0.596142, \"OCCURANCE\": 0}, {\"DATES\": \"1/09/2015_30/11/2015\", \"RELATIVE HUMIDITY\": 79.76951, \"RAINFALL INTENSITY\": 4.746428571, \"MAX TEMP\": 21.63938, \"MIN TEMP\": 13.59272, \"WETSPELL\": 3, \"NDVI\": 0.575178, \"OCCURANCE\": 0}, {\"DATES\": \"1/09/2016_30/11/2016\", \"RELATIVE HUMIDITY\": 77.28958, \"RAINFALL INTENSITY\": 5.421483516, \"MAX TEMP\": 22.20984, \"MIN TEMP\": 13.73655, \"WETSPELL\": 2, \"NDVI\": 0.605051, \"OCCURANCE\": 0}, {\"DATES\": \"1/09/2017_30/11/2017\", \"RELATIVE HUMIDITY\": 78.5831, \"RAINFALL INTENSITY\": 5.168406593, \"MAX TEMP\": 21.42541, \"MIN TEMP\": 13.30362, \"WETSPELL\": 0, \"NDVI\": 0.579081, \"OCCURANCE\": 0}, {\"DATES\": \"1/09/2018_30/11/2018\", \"RELATIVE HUMIDITY\": 80.07997, \"RAINFALL INTENSITY\": 4.183857143, \"MAX TEMP\": 21.48962, \"MIN TEMP\": 13.32879, \"WETSPELL\": 2, \"NDVI\": 0.592061, \"OCCURANCE\": 0}, {\"DATES\": \"1/09/2019_30/11/2019\", \"RELATIVE HUMIDITY\": 82.73625, \"RAINFALL INTENSITY\": 4.308934066, \"MAX TEMP\": 21.0615, \"MIN TEMP\": 13.30294, \"WETSPELL\": 1, \"NDVI\": 0.633165, \"OCCURANCE\": 0}, {\"DATES\": \"1/09/2020_30/11/2020\", \"RELATIVE HUMIDITY\": 81.53673, \"RAINFALL INTENSITY\": 4.47478022, \"MAX TEMP\": 21.19892, \"MIN TEMP\": 13.48958, \"WETSPELL\": 1, \"NDVI\": 0.67352, \"OCCURANCE\": 0}, {\"DATES\": \"1/09/2021_30/11/2021\", \"RELATIVE HUMIDITY\": 80.05094, \"RAINFALL INTENSITY\": 3.673417582, \"MAX TEMP\": 21.54695, \"MIN TEMP\": 13.4902, \"WETSPELL\": 1, \"NDVI\": 0.655711, \"OCCURANCE\": 0}, {\"DATES\": \"1/09/2022_30/11/2022\", \"RELATIVE HUMIDITY\": 82.29494, \"RAINFALL INTENSITY\": 4.446703297, \"MAX TEMP\": 21.03859, \"MIN TEMP\": 13.48622, \"WETSPELL\": 3, \"NDVI\": 0.661058, \"OCCURANCE\": 1}, {\"DATES\": \"1/09/2023_30/11/2023\", \"RELATIVE HUMIDITY\": 80.30373, \"RAINFALL INTENSITY\": 4.318142857, \"MAX TEMP\": 21.31903, \"MIN TEMP\": 14.01205, \"WETSPELL\": 1, \"NDVI\": 0.651266, \"OCCURANCE\": 1}]}}, {\"mode\": \"vega-lite\"});\n",
              "</script>"
            ],
            "text/plain": [
              "alt.Chart(...)"
            ]
          },
          "metadata": {},
          "execution_count": 16
        }
      ],
      "source": [
        "# @title DATES vs OCCURANCE\n",
        "alt.Chart(df).mark_line().encode(x='DATES', y='OCCURANCE')"
      ]
    },
    {
      "cell_type": "code",
      "execution_count": null,
      "metadata": {
        "colab": {
          "base_uri": "https://localhost:8080/",
          "height": 454
        },
        "id": "BtzM4hovnnBW",
        "outputId": "a353aac0-019d-43a6-d3b4-92e1a0a73c2f"
      },
      "outputs": [
        {
          "output_type": "execute_result",
          "data": {
            "text/html": [
              "\n",
              "<div id=\"altair-viz-d426f4e8f94c40ecbb17d54b98442237\"></div>\n",
              "<script type=\"text/javascript\">\n",
              "  var VEGA_DEBUG = (typeof VEGA_DEBUG == \"undefined\") ? {} : VEGA_DEBUG;\n",
              "  (function(spec, embedOpt){\n",
              "    let outputDiv = document.currentScript.previousElementSibling;\n",
              "    if (outputDiv.id !== \"altair-viz-d426f4e8f94c40ecbb17d54b98442237\") {\n",
              "      outputDiv = document.getElementById(\"altair-viz-d426f4e8f94c40ecbb17d54b98442237\");\n",
              "    }\n",
              "    const paths = {\n",
              "      \"vega\": \"https://cdn.jsdelivr.net/npm//vega@5?noext\",\n",
              "      \"vega-lib\": \"https://cdn.jsdelivr.net/npm//vega-lib?noext\",\n",
              "      \"vega-lite\": \"https://cdn.jsdelivr.net/npm//vega-lite@4.17.0?noext\",\n",
              "      \"vega-embed\": \"https://cdn.jsdelivr.net/npm//vega-embed@6?noext\",\n",
              "    };\n",
              "\n",
              "    function maybeLoadScript(lib, version) {\n",
              "      var key = `${lib.replace(\"-\", \"\")}_version`;\n",
              "      return (VEGA_DEBUG[key] == version) ?\n",
              "        Promise.resolve(paths[lib]) :\n",
              "        new Promise(function(resolve, reject) {\n",
              "          var s = document.createElement('script');\n",
              "          document.getElementsByTagName(\"head\")[0].appendChild(s);\n",
              "          s.async = true;\n",
              "          s.onload = () => {\n",
              "            VEGA_DEBUG[key] = version;\n",
              "            return resolve(paths[lib]);\n",
              "          };\n",
              "          s.onerror = () => reject(`Error loading script: ${paths[lib]}`);\n",
              "          s.src = paths[lib];\n",
              "        });\n",
              "    }\n",
              "\n",
              "    function showError(err) {\n",
              "      outputDiv.innerHTML = `<div class=\"error\" style=\"color:red;\">${err}</div>`;\n",
              "      throw err;\n",
              "    }\n",
              "\n",
              "    function displayChart(vegaEmbed) {\n",
              "      vegaEmbed(outputDiv, spec, embedOpt)\n",
              "        .catch(err => showError(`Javascript Error: ${err.message}<br>This usually means there's a typo in your chart specification. See the javascript console for the full traceback.`));\n",
              "    }\n",
              "\n",
              "    if(typeof define === \"function\" && define.amd) {\n",
              "      requirejs.config({paths});\n",
              "      require([\"vega-embed\"], displayChart, err => showError(`Error loading script: ${err.message}`));\n",
              "    } else {\n",
              "      maybeLoadScript(\"vega\", \"5\")\n",
              "        .then(() => maybeLoadScript(\"vega-lite\", \"4.17.0\"))\n",
              "        .then(() => maybeLoadScript(\"vega-embed\", \"6\"))\n",
              "        .catch(showError)\n",
              "        .then(() => displayChart(vegaEmbed));\n",
              "    }\n",
              "  })({\"config\": {\"view\": {\"continuousWidth\": 400, \"continuousHeight\": 300}}, \"data\": {\"name\": \"data-22bed20d69f89da88e8b4beb84318586\"}, \"mark\": \"line\", \"encoding\": {\"x\": {\"field\": \"DATES\", \"type\": \"nominal\"}, \"y\": {\"field\": \"RAINFALL INTENSITY\", \"type\": \"quantitative\"}}, \"$schema\": \"https://vega.github.io/schema/vega-lite/v4.17.0.json\", \"datasets\": {\"data-22bed20d69f89da88e8b4beb84318586\": [{\"DATES\": \"1/03/2010_31/05/2010\", \"RELATIVE HUMIDITY\": 85.65389, \"RAINFALL INTENSITY\": 4.245347826, \"MAX TEMP\": 21.78536, \"MIN TEMP\": 14.2761, \"WETSPELL\": 0, \"NDVI\": 0.64729, \"OCCURANCE\": 1}, {\"DATES\": \"1/03/2011_31/05/2011\", \"RELATIVE HUMIDITY\": 83.22138, \"RAINFALL INTENSITY\": 3.768467391, \"MAX TEMP\": 21.29846, \"MIN TEMP\": 13.36172, \"WETSPELL\": 2, \"NDVI\": 0.618491, \"OCCURANCE\": 0}, {\"DATES\": \"1/03/2012_31/05/2012\", \"RELATIVE HUMIDITY\": 82.95003, \"RAINFALL INTENSITY\": 4.666652174, \"MAX TEMP\": 21.10165, \"MIN TEMP\": 13.44033, \"WETSPELL\": 0, \"NDVI\": 0.623985, \"OCCURANCE\": 0}, {\"DATES\": \"1/03/2013_31/05/2013\", \"RELATIVE HUMIDITY\": 83.67963, \"RAINFALL INTENSITY\": 4.684413043, \"MAX TEMP\": 21.19089, \"MIN TEMP\": 13.7448, \"WETSPELL\": 3, \"NDVI\": 0.6793, \"OCCURANCE\": 0}, {\"DATES\": \"1/03/2014_31/05/2014\", \"RELATIVE HUMIDITY\": 82.4845, \"RAINFALL INTENSITY\": 3.439934783, \"MAX TEMP\": 21.38267, \"MIN TEMP\": 13.34079, \"WETSPELL\": 2, \"NDVI\": 0.599595, \"OCCURANCE\": 1}, {\"DATES\": \"1/03/2015_31/05/2015\", \"RELATIVE HUMIDITY\": 82.03391, \"RAINFALL INTENSITY\": 4.277826087, \"MAX TEMP\": 21.40103, \"MIN TEMP\": 13.76537, \"WETSPELL\": 0, \"NDVI\": 0.632378, \"OCCURANCE\": 0}, {\"DATES\": \"1/03/2016_31/05/2016\", \"RELATIVE HUMIDITY\": 82.96507, \"RAINFALL INTENSITY\": 4.723413043, \"MAX TEMP\": 22.15992, \"MIN TEMP\": 14.5709, \"WETSPELL\": 1, \"NDVI\": 0.6603, \"OCCURANCE\": 0}, {\"DATES\": \"1/03/2017_31/05/2017\", \"RELATIVE HUMIDITY\": 82.16143, \"RAINFALL INTENSITY\": 2.996652174, \"MAX TEMP\": 21.53163, \"MIN TEMP\": 13.70898, \"WETSPELL\": 0, \"NDVI\": 0.63864, \"OCCURANCE\": 0}, {\"DATES\": \"1/03/2018_31/05/2018\", \"RELATIVE HUMIDITY\": 86.91359, \"RAINFALL INTENSITY\": 6.306565217, \"MAX TEMP\": 21.02518, \"MIN TEMP\": 13.86181, \"WETSPELL\": 6, \"NDVI\": 0.637576, \"OCCURANCE\": 0}, {\"DATES\": \"1/03/2019_31/05/2019\", \"RELATIVE HUMIDITY\": 83.25967, \"RAINFALL INTENSITY\": 3.501065217, \"MAX TEMP\": 21.86274, \"MIN TEMP\": 13.94155, \"WETSPELL\": 2, \"NDVI\": 0.666147, \"OCCURANCE\": 0}, {\"DATES\": \"1/03/2020_31/05/2020\", \"RELATIVE HUMIDITY\": 86.40071, \"RAINFALL INTENSITY\": 3.867630435, \"MAX TEMP\": 21.6721, \"MIN TEMP\": 14.36964, \"WETSPELL\": 1, \"NDVI\": 0.697276, \"OCCURANCE\": 1}, {\"DATES\": \"1/03/2021_31/05/2021\", \"RELATIVE HUMIDITY\": 86.19531, \"RAINFALL INTENSITY\": 3.01301087, \"MAX TEMP\": 21.17467, \"MIN TEMP\": 13.67791, \"WETSPELL\": 0, \"NDVI\": 0.712194, \"OCCURANCE\": 0}, {\"DATES\": \"1/03/2022_31/05/2022\", \"RELATIVE HUMIDITY\": 84.86891, \"RAINFALL INTENSITY\": 3.950445652, \"MAX TEMP\": 21.43437, \"MIN TEMP\": 13.66106, \"WETSPELL\": 0, \"NDVI\": 0.666625, \"OCCURANCE\": 1}, {\"DATES\": \"1/03/2023_31/05/2023\", \"RELATIVE HUMIDITY\": 84.80735, \"RAINFALL INTENSITY\": 5.331826087, \"MAX TEMP\": 21.30018, \"MIN TEMP\": 13.94332, \"WETSPELL\": 2, \"NDVI\": 0.694266, \"OCCURANCE\": 1}, {\"DATES\": \"1/09/2010_30/11/2010\", \"RELATIVE HUMIDITY\": 76.80823, \"RAINFALL INTENSITY\": 4.828395604, \"MAX TEMP\": 21.58697, \"MIN TEMP\": 13.24299, \"WETSPELL\": 4, \"NDVI\": 0.554108, \"OCCURANCE\": 0}, {\"DATES\": \"1/09/2011_30/11/2011\", \"RELATIVE HUMIDITY\": 82.85559, \"RAINFALL INTENSITY\": 5.200582418, \"MAX TEMP\": 20.74153, \"MIN TEMP\": 13.06052, \"WETSPELL\": 4, \"NDVI\": 0.633901, \"OCCURANCE\": 1}, {\"DATES\": \"1/09/2012_30/11/2012\", \"RELATIVE HUMIDITY\": 79.32268, \"RAINFALL INTENSITY\": 4.515912088, \"MAX TEMP\": 21.22764, \"MIN TEMP\": 13.06305, \"WETSPELL\": 1, \"NDVI\": 0.612146, \"OCCURANCE\": 0}, {\"DATES\": \"1/09/2013_30/11/2013\", \"RELATIVE HUMIDITY\": 77.01799, \"RAINFALL INTENSITY\": 4.149527473, \"MAX TEMP\": 21.28469, \"MIN TEMP\": 12.94113, \"WETSPELL\": 1, \"NDVI\": 0.577924, \"OCCURANCE\": 0}, {\"DATES\": \"1/09/2014_30/11/2014\", \"RELATIVE HUMIDITY\": 80.17622, \"RAINFALL INTENSITY\": 4.065087912, \"MAX TEMP\": 21.23585, \"MIN TEMP\": 13.10908, \"WETSPELL\": 1, \"NDVI\": 0.596142, \"OCCURANCE\": 0}, {\"DATES\": \"1/09/2015_30/11/2015\", \"RELATIVE HUMIDITY\": 79.76951, \"RAINFALL INTENSITY\": 4.746428571, \"MAX TEMP\": 21.63938, \"MIN TEMP\": 13.59272, \"WETSPELL\": 3, \"NDVI\": 0.575178, \"OCCURANCE\": 0}, {\"DATES\": \"1/09/2016_30/11/2016\", \"RELATIVE HUMIDITY\": 77.28958, \"RAINFALL INTENSITY\": 5.421483516, \"MAX TEMP\": 22.20984, \"MIN TEMP\": 13.73655, \"WETSPELL\": 2, \"NDVI\": 0.605051, \"OCCURANCE\": 0}, {\"DATES\": \"1/09/2017_30/11/2017\", \"RELATIVE HUMIDITY\": 78.5831, \"RAINFALL INTENSITY\": 5.168406593, \"MAX TEMP\": 21.42541, \"MIN TEMP\": 13.30362, \"WETSPELL\": 0, \"NDVI\": 0.579081, \"OCCURANCE\": 0}, {\"DATES\": \"1/09/2018_30/11/2018\", \"RELATIVE HUMIDITY\": 80.07997, \"RAINFALL INTENSITY\": 4.183857143, \"MAX TEMP\": 21.48962, \"MIN TEMP\": 13.32879, \"WETSPELL\": 2, \"NDVI\": 0.592061, \"OCCURANCE\": 0}, {\"DATES\": \"1/09/2019_30/11/2019\", \"RELATIVE HUMIDITY\": 82.73625, \"RAINFALL INTENSITY\": 4.308934066, \"MAX TEMP\": 21.0615, \"MIN TEMP\": 13.30294, \"WETSPELL\": 1, \"NDVI\": 0.633165, \"OCCURANCE\": 0}, {\"DATES\": \"1/09/2020_30/11/2020\", \"RELATIVE HUMIDITY\": 81.53673, \"RAINFALL INTENSITY\": 4.47478022, \"MAX TEMP\": 21.19892, \"MIN TEMP\": 13.48958, \"WETSPELL\": 1, \"NDVI\": 0.67352, \"OCCURANCE\": 0}, {\"DATES\": \"1/09/2021_30/11/2021\", \"RELATIVE HUMIDITY\": 80.05094, \"RAINFALL INTENSITY\": 3.673417582, \"MAX TEMP\": 21.54695, \"MIN TEMP\": 13.4902, \"WETSPELL\": 1, \"NDVI\": 0.655711, \"OCCURANCE\": 0}, {\"DATES\": \"1/09/2022_30/11/2022\", \"RELATIVE HUMIDITY\": 82.29494, \"RAINFALL INTENSITY\": 4.446703297, \"MAX TEMP\": 21.03859, \"MIN TEMP\": 13.48622, \"WETSPELL\": 3, \"NDVI\": 0.661058, \"OCCURANCE\": 1}, {\"DATES\": \"1/09/2023_30/11/2023\", \"RELATIVE HUMIDITY\": 80.30373, \"RAINFALL INTENSITY\": 4.318142857, \"MAX TEMP\": 21.31903, \"MIN TEMP\": 14.01205, \"WETSPELL\": 1, \"NDVI\": 0.651266, \"OCCURANCE\": 1}]}}, {\"mode\": \"vega-lite\"});\n",
              "</script>"
            ],
            "text/plain": [
              "alt.Chart(...)"
            ]
          },
          "metadata": {},
          "execution_count": 17
        }
      ],
      "source": [
        "# @title DATES vs RAINFALL INTENSITY\n",
        "alt.Chart(df).mark_line().encode(x='DATES', y='RAINFALL INTENSITY')"
      ]
    },
    {
      "cell_type": "code",
      "execution_count": null,
      "metadata": {
        "colab": {
          "base_uri": "https://localhost:8080/",
          "height": 459
        },
        "id": "HduNYbcfn1S-",
        "outputId": "687b8ef9-aa52-47d3-8123-a5dc04e3a396"
      },
      "outputs": [
        {
          "output_type": "execute_result",
          "data": {
            "text/html": [
              "\n",
              "<div id=\"altair-viz-d02d784977184b4dac82ff2cb031d03d\"></div>\n",
              "<script type=\"text/javascript\">\n",
              "  var VEGA_DEBUG = (typeof VEGA_DEBUG == \"undefined\") ? {} : VEGA_DEBUG;\n",
              "  (function(spec, embedOpt){\n",
              "    let outputDiv = document.currentScript.previousElementSibling;\n",
              "    if (outputDiv.id !== \"altair-viz-d02d784977184b4dac82ff2cb031d03d\") {\n",
              "      outputDiv = document.getElementById(\"altair-viz-d02d784977184b4dac82ff2cb031d03d\");\n",
              "    }\n",
              "    const paths = {\n",
              "      \"vega\": \"https://cdn.jsdelivr.net/npm//vega@5?noext\",\n",
              "      \"vega-lib\": \"https://cdn.jsdelivr.net/npm//vega-lib?noext\",\n",
              "      \"vega-lite\": \"https://cdn.jsdelivr.net/npm//vega-lite@4.17.0?noext\",\n",
              "      \"vega-embed\": \"https://cdn.jsdelivr.net/npm//vega-embed@6?noext\",\n",
              "    };\n",
              "\n",
              "    function maybeLoadScript(lib, version) {\n",
              "      var key = `${lib.replace(\"-\", \"\")}_version`;\n",
              "      return (VEGA_DEBUG[key] == version) ?\n",
              "        Promise.resolve(paths[lib]) :\n",
              "        new Promise(function(resolve, reject) {\n",
              "          var s = document.createElement('script');\n",
              "          document.getElementsByTagName(\"head\")[0].appendChild(s);\n",
              "          s.async = true;\n",
              "          s.onload = () => {\n",
              "            VEGA_DEBUG[key] = version;\n",
              "            return resolve(paths[lib]);\n",
              "          };\n",
              "          s.onerror = () => reject(`Error loading script: ${paths[lib]}`);\n",
              "          s.src = paths[lib];\n",
              "        });\n",
              "    }\n",
              "\n",
              "    function showError(err) {\n",
              "      outputDiv.innerHTML = `<div class=\"error\" style=\"color:red;\">${err}</div>`;\n",
              "      throw err;\n",
              "    }\n",
              "\n",
              "    function displayChart(vegaEmbed) {\n",
              "      vegaEmbed(outputDiv, spec, embedOpt)\n",
              "        .catch(err => showError(`Javascript Error: ${err.message}<br>This usually means there's a typo in your chart specification. See the javascript console for the full traceback.`));\n",
              "    }\n",
              "\n",
              "    if(typeof define === \"function\" && define.amd) {\n",
              "      requirejs.config({paths});\n",
              "      require([\"vega-embed\"], displayChart, err => showError(`Error loading script: ${err.message}`));\n",
              "    } else {\n",
              "      maybeLoadScript(\"vega\", \"5\")\n",
              "        .then(() => maybeLoadScript(\"vega-lite\", \"4.17.0\"))\n",
              "        .then(() => maybeLoadScript(\"vega-embed\", \"6\"))\n",
              "        .catch(showError)\n",
              "        .then(() => displayChart(vegaEmbed));\n",
              "    }\n",
              "  })({\"config\": {\"view\": {\"continuousWidth\": 400, \"continuousHeight\": 300}}, \"data\": {\"name\": \"data-22bed20d69f89da88e8b4beb84318586\"}, \"mark\": \"line\", \"encoding\": {\"x\": {\"field\": \"DATES\", \"type\": \"nominal\"}, \"y\": {\"field\": \"MAX TEMP\", \"type\": \"quantitative\"}}, \"$schema\": \"https://vega.github.io/schema/vega-lite/v4.17.0.json\", \"datasets\": {\"data-22bed20d69f89da88e8b4beb84318586\": [{\"DATES\": \"1/03/2010_31/05/2010\", \"RELATIVE HUMIDITY\": 85.65389, \"RAINFALL INTENSITY\": 4.245347826, \"MAX TEMP\": 21.78536, \"MIN TEMP\": 14.2761, \"WETSPELL\": 0, \"NDVI\": 0.64729, \"OCCURANCE\": 1}, {\"DATES\": \"1/03/2011_31/05/2011\", \"RELATIVE HUMIDITY\": 83.22138, \"RAINFALL INTENSITY\": 3.768467391, \"MAX TEMP\": 21.29846, \"MIN TEMP\": 13.36172, \"WETSPELL\": 2, \"NDVI\": 0.618491, \"OCCURANCE\": 0}, {\"DATES\": \"1/03/2012_31/05/2012\", \"RELATIVE HUMIDITY\": 82.95003, \"RAINFALL INTENSITY\": 4.666652174, \"MAX TEMP\": 21.10165, \"MIN TEMP\": 13.44033, \"WETSPELL\": 0, \"NDVI\": 0.623985, \"OCCURANCE\": 0}, {\"DATES\": \"1/03/2013_31/05/2013\", \"RELATIVE HUMIDITY\": 83.67963, \"RAINFALL INTENSITY\": 4.684413043, \"MAX TEMP\": 21.19089, \"MIN TEMP\": 13.7448, \"WETSPELL\": 3, \"NDVI\": 0.6793, \"OCCURANCE\": 0}, {\"DATES\": \"1/03/2014_31/05/2014\", \"RELATIVE HUMIDITY\": 82.4845, \"RAINFALL INTENSITY\": 3.439934783, \"MAX TEMP\": 21.38267, \"MIN TEMP\": 13.34079, \"WETSPELL\": 2, \"NDVI\": 0.599595, \"OCCURANCE\": 1}, {\"DATES\": \"1/03/2015_31/05/2015\", \"RELATIVE HUMIDITY\": 82.03391, \"RAINFALL INTENSITY\": 4.277826087, \"MAX TEMP\": 21.40103, \"MIN TEMP\": 13.76537, \"WETSPELL\": 0, \"NDVI\": 0.632378, \"OCCURANCE\": 0}, {\"DATES\": \"1/03/2016_31/05/2016\", \"RELATIVE HUMIDITY\": 82.96507, \"RAINFALL INTENSITY\": 4.723413043, \"MAX TEMP\": 22.15992, \"MIN TEMP\": 14.5709, \"WETSPELL\": 1, \"NDVI\": 0.6603, \"OCCURANCE\": 0}, {\"DATES\": \"1/03/2017_31/05/2017\", \"RELATIVE HUMIDITY\": 82.16143, \"RAINFALL INTENSITY\": 2.996652174, \"MAX TEMP\": 21.53163, \"MIN TEMP\": 13.70898, \"WETSPELL\": 0, \"NDVI\": 0.63864, \"OCCURANCE\": 0}, {\"DATES\": \"1/03/2018_31/05/2018\", \"RELATIVE HUMIDITY\": 86.91359, \"RAINFALL INTENSITY\": 6.306565217, \"MAX TEMP\": 21.02518, \"MIN TEMP\": 13.86181, \"WETSPELL\": 6, \"NDVI\": 0.637576, \"OCCURANCE\": 0}, {\"DATES\": \"1/03/2019_31/05/2019\", \"RELATIVE HUMIDITY\": 83.25967, \"RAINFALL INTENSITY\": 3.501065217, \"MAX TEMP\": 21.86274, \"MIN TEMP\": 13.94155, \"WETSPELL\": 2, \"NDVI\": 0.666147, \"OCCURANCE\": 0}, {\"DATES\": \"1/03/2020_31/05/2020\", \"RELATIVE HUMIDITY\": 86.40071, \"RAINFALL INTENSITY\": 3.867630435, \"MAX TEMP\": 21.6721, \"MIN TEMP\": 14.36964, \"WETSPELL\": 1, \"NDVI\": 0.697276, \"OCCURANCE\": 1}, {\"DATES\": \"1/03/2021_31/05/2021\", \"RELATIVE HUMIDITY\": 86.19531, \"RAINFALL INTENSITY\": 3.01301087, \"MAX TEMP\": 21.17467, \"MIN TEMP\": 13.67791, \"WETSPELL\": 0, \"NDVI\": 0.712194, \"OCCURANCE\": 0}, {\"DATES\": \"1/03/2022_31/05/2022\", \"RELATIVE HUMIDITY\": 84.86891, \"RAINFALL INTENSITY\": 3.950445652, \"MAX TEMP\": 21.43437, \"MIN TEMP\": 13.66106, \"WETSPELL\": 0, \"NDVI\": 0.666625, \"OCCURANCE\": 1}, {\"DATES\": \"1/03/2023_31/05/2023\", \"RELATIVE HUMIDITY\": 84.80735, \"RAINFALL INTENSITY\": 5.331826087, \"MAX TEMP\": 21.30018, \"MIN TEMP\": 13.94332, \"WETSPELL\": 2, \"NDVI\": 0.694266, \"OCCURANCE\": 1}, {\"DATES\": \"1/09/2010_30/11/2010\", \"RELATIVE HUMIDITY\": 76.80823, \"RAINFALL INTENSITY\": 4.828395604, \"MAX TEMP\": 21.58697, \"MIN TEMP\": 13.24299, \"WETSPELL\": 4, \"NDVI\": 0.554108, \"OCCURANCE\": 0}, {\"DATES\": \"1/09/2011_30/11/2011\", \"RELATIVE HUMIDITY\": 82.85559, \"RAINFALL INTENSITY\": 5.200582418, \"MAX TEMP\": 20.74153, \"MIN TEMP\": 13.06052, \"WETSPELL\": 4, \"NDVI\": 0.633901, \"OCCURANCE\": 1}, {\"DATES\": \"1/09/2012_30/11/2012\", \"RELATIVE HUMIDITY\": 79.32268, \"RAINFALL INTENSITY\": 4.515912088, \"MAX TEMP\": 21.22764, \"MIN TEMP\": 13.06305, \"WETSPELL\": 1, \"NDVI\": 0.612146, \"OCCURANCE\": 0}, {\"DATES\": \"1/09/2013_30/11/2013\", \"RELATIVE HUMIDITY\": 77.01799, \"RAINFALL INTENSITY\": 4.149527473, \"MAX TEMP\": 21.28469, \"MIN TEMP\": 12.94113, \"WETSPELL\": 1, \"NDVI\": 0.577924, \"OCCURANCE\": 0}, {\"DATES\": \"1/09/2014_30/11/2014\", \"RELATIVE HUMIDITY\": 80.17622, \"RAINFALL INTENSITY\": 4.065087912, \"MAX TEMP\": 21.23585, \"MIN TEMP\": 13.10908, \"WETSPELL\": 1, \"NDVI\": 0.596142, \"OCCURANCE\": 0}, {\"DATES\": \"1/09/2015_30/11/2015\", \"RELATIVE HUMIDITY\": 79.76951, \"RAINFALL INTENSITY\": 4.746428571, \"MAX TEMP\": 21.63938, \"MIN TEMP\": 13.59272, \"WETSPELL\": 3, \"NDVI\": 0.575178, \"OCCURANCE\": 0}, {\"DATES\": \"1/09/2016_30/11/2016\", \"RELATIVE HUMIDITY\": 77.28958, \"RAINFALL INTENSITY\": 5.421483516, \"MAX TEMP\": 22.20984, \"MIN TEMP\": 13.73655, \"WETSPELL\": 2, \"NDVI\": 0.605051, \"OCCURANCE\": 0}, {\"DATES\": \"1/09/2017_30/11/2017\", \"RELATIVE HUMIDITY\": 78.5831, \"RAINFALL INTENSITY\": 5.168406593, \"MAX TEMP\": 21.42541, \"MIN TEMP\": 13.30362, \"WETSPELL\": 0, \"NDVI\": 0.579081, \"OCCURANCE\": 0}, {\"DATES\": \"1/09/2018_30/11/2018\", \"RELATIVE HUMIDITY\": 80.07997, \"RAINFALL INTENSITY\": 4.183857143, \"MAX TEMP\": 21.48962, \"MIN TEMP\": 13.32879, \"WETSPELL\": 2, \"NDVI\": 0.592061, \"OCCURANCE\": 0}, {\"DATES\": \"1/09/2019_30/11/2019\", \"RELATIVE HUMIDITY\": 82.73625, \"RAINFALL INTENSITY\": 4.308934066, \"MAX TEMP\": 21.0615, \"MIN TEMP\": 13.30294, \"WETSPELL\": 1, \"NDVI\": 0.633165, \"OCCURANCE\": 0}, {\"DATES\": \"1/09/2020_30/11/2020\", \"RELATIVE HUMIDITY\": 81.53673, \"RAINFALL INTENSITY\": 4.47478022, \"MAX TEMP\": 21.19892, \"MIN TEMP\": 13.48958, \"WETSPELL\": 1, \"NDVI\": 0.67352, \"OCCURANCE\": 0}, {\"DATES\": \"1/09/2021_30/11/2021\", \"RELATIVE HUMIDITY\": 80.05094, \"RAINFALL INTENSITY\": 3.673417582, \"MAX TEMP\": 21.54695, \"MIN TEMP\": 13.4902, \"WETSPELL\": 1, \"NDVI\": 0.655711, \"OCCURANCE\": 0}, {\"DATES\": \"1/09/2022_30/11/2022\", \"RELATIVE HUMIDITY\": 82.29494, \"RAINFALL INTENSITY\": 4.446703297, \"MAX TEMP\": 21.03859, \"MIN TEMP\": 13.48622, \"WETSPELL\": 3, \"NDVI\": 0.661058, \"OCCURANCE\": 1}, {\"DATES\": \"1/09/2023_30/11/2023\", \"RELATIVE HUMIDITY\": 80.30373, \"RAINFALL INTENSITY\": 4.318142857, \"MAX TEMP\": 21.31903, \"MIN TEMP\": 14.01205, \"WETSPELL\": 1, \"NDVI\": 0.651266, \"OCCURANCE\": 1}]}}, {\"mode\": \"vega-lite\"});\n",
              "</script>"
            ],
            "text/plain": [
              "alt.Chart(...)"
            ]
          },
          "metadata": {},
          "execution_count": 18
        }
      ],
      "source": [
        "# @title DATES vs MAX TEMP\n",
        "alt.Chart(df).mark_line().encode(x='DATES', y='MAX TEMP')"
      ]
    },
    {
      "cell_type": "code",
      "execution_count": null,
      "metadata": {
        "colab": {
          "base_uri": "https://localhost:8080/",
          "height": 459
        },
        "id": "DH6-9jfNn8EG",
        "outputId": "3dbcbcf8-106e-4759-c2ef-a130a9f30706"
      },
      "outputs": [
        {
          "output_type": "execute_result",
          "data": {
            "text/html": [
              "\n",
              "<div id=\"altair-viz-b11caa72ece04b3eaeb4161b97bb6965\"></div>\n",
              "<script type=\"text/javascript\">\n",
              "  var VEGA_DEBUG = (typeof VEGA_DEBUG == \"undefined\") ? {} : VEGA_DEBUG;\n",
              "  (function(spec, embedOpt){\n",
              "    let outputDiv = document.currentScript.previousElementSibling;\n",
              "    if (outputDiv.id !== \"altair-viz-b11caa72ece04b3eaeb4161b97bb6965\") {\n",
              "      outputDiv = document.getElementById(\"altair-viz-b11caa72ece04b3eaeb4161b97bb6965\");\n",
              "    }\n",
              "    const paths = {\n",
              "      \"vega\": \"https://cdn.jsdelivr.net/npm//vega@5?noext\",\n",
              "      \"vega-lib\": \"https://cdn.jsdelivr.net/npm//vega-lib?noext\",\n",
              "      \"vega-lite\": \"https://cdn.jsdelivr.net/npm//vega-lite@4.17.0?noext\",\n",
              "      \"vega-embed\": \"https://cdn.jsdelivr.net/npm//vega-embed@6?noext\",\n",
              "    };\n",
              "\n",
              "    function maybeLoadScript(lib, version) {\n",
              "      var key = `${lib.replace(\"-\", \"\")}_version`;\n",
              "      return (VEGA_DEBUG[key] == version) ?\n",
              "        Promise.resolve(paths[lib]) :\n",
              "        new Promise(function(resolve, reject) {\n",
              "          var s = document.createElement('script');\n",
              "          document.getElementsByTagName(\"head\")[0].appendChild(s);\n",
              "          s.async = true;\n",
              "          s.onload = () => {\n",
              "            VEGA_DEBUG[key] = version;\n",
              "            return resolve(paths[lib]);\n",
              "          };\n",
              "          s.onerror = () => reject(`Error loading script: ${paths[lib]}`);\n",
              "          s.src = paths[lib];\n",
              "        });\n",
              "    }\n",
              "\n",
              "    function showError(err) {\n",
              "      outputDiv.innerHTML = `<div class=\"error\" style=\"color:red;\">${err}</div>`;\n",
              "      throw err;\n",
              "    }\n",
              "\n",
              "    function displayChart(vegaEmbed) {\n",
              "      vegaEmbed(outputDiv, spec, embedOpt)\n",
              "        .catch(err => showError(`Javascript Error: ${err.message}<br>This usually means there's a typo in your chart specification. See the javascript console for the full traceback.`));\n",
              "    }\n",
              "\n",
              "    if(typeof define === \"function\" && define.amd) {\n",
              "      requirejs.config({paths});\n",
              "      require([\"vega-embed\"], displayChart, err => showError(`Error loading script: ${err.message}`));\n",
              "    } else {\n",
              "      maybeLoadScript(\"vega\", \"5\")\n",
              "        .then(() => maybeLoadScript(\"vega-lite\", \"4.17.0\"))\n",
              "        .then(() => maybeLoadScript(\"vega-embed\", \"6\"))\n",
              "        .catch(showError)\n",
              "        .then(() => displayChart(vegaEmbed));\n",
              "    }\n",
              "  })({\"config\": {\"view\": {\"continuousWidth\": 400, \"continuousHeight\": 300}}, \"data\": {\"name\": \"data-22bed20d69f89da88e8b4beb84318586\"}, \"mark\": \"line\", \"encoding\": {\"x\": {\"field\": \"DATES\", \"type\": \"nominal\"}, \"y\": {\"field\": \"MIN TEMP\", \"type\": \"quantitative\"}}, \"$schema\": \"https://vega.github.io/schema/vega-lite/v4.17.0.json\", \"datasets\": {\"data-22bed20d69f89da88e8b4beb84318586\": [{\"DATES\": \"1/03/2010_31/05/2010\", \"RELATIVE HUMIDITY\": 85.65389, \"RAINFALL INTENSITY\": 4.245347826, \"MAX TEMP\": 21.78536, \"MIN TEMP\": 14.2761, \"WETSPELL\": 0, \"NDVI\": 0.64729, \"OCCURANCE\": 1}, {\"DATES\": \"1/03/2011_31/05/2011\", \"RELATIVE HUMIDITY\": 83.22138, \"RAINFALL INTENSITY\": 3.768467391, \"MAX TEMP\": 21.29846, \"MIN TEMP\": 13.36172, \"WETSPELL\": 2, \"NDVI\": 0.618491, \"OCCURANCE\": 0}, {\"DATES\": \"1/03/2012_31/05/2012\", \"RELATIVE HUMIDITY\": 82.95003, \"RAINFALL INTENSITY\": 4.666652174, \"MAX TEMP\": 21.10165, \"MIN TEMP\": 13.44033, \"WETSPELL\": 0, \"NDVI\": 0.623985, \"OCCURANCE\": 0}, {\"DATES\": \"1/03/2013_31/05/2013\", \"RELATIVE HUMIDITY\": 83.67963, \"RAINFALL INTENSITY\": 4.684413043, \"MAX TEMP\": 21.19089, \"MIN TEMP\": 13.7448, \"WETSPELL\": 3, \"NDVI\": 0.6793, \"OCCURANCE\": 0}, {\"DATES\": \"1/03/2014_31/05/2014\", \"RELATIVE HUMIDITY\": 82.4845, \"RAINFALL INTENSITY\": 3.439934783, \"MAX TEMP\": 21.38267, \"MIN TEMP\": 13.34079, \"WETSPELL\": 2, \"NDVI\": 0.599595, \"OCCURANCE\": 1}, {\"DATES\": \"1/03/2015_31/05/2015\", \"RELATIVE HUMIDITY\": 82.03391, \"RAINFALL INTENSITY\": 4.277826087, \"MAX TEMP\": 21.40103, \"MIN TEMP\": 13.76537, \"WETSPELL\": 0, \"NDVI\": 0.632378, \"OCCURANCE\": 0}, {\"DATES\": \"1/03/2016_31/05/2016\", \"RELATIVE HUMIDITY\": 82.96507, \"RAINFALL INTENSITY\": 4.723413043, \"MAX TEMP\": 22.15992, \"MIN TEMP\": 14.5709, \"WETSPELL\": 1, \"NDVI\": 0.6603, \"OCCURANCE\": 0}, {\"DATES\": \"1/03/2017_31/05/2017\", \"RELATIVE HUMIDITY\": 82.16143, \"RAINFALL INTENSITY\": 2.996652174, \"MAX TEMP\": 21.53163, \"MIN TEMP\": 13.70898, \"WETSPELL\": 0, \"NDVI\": 0.63864, \"OCCURANCE\": 0}, {\"DATES\": \"1/03/2018_31/05/2018\", \"RELATIVE HUMIDITY\": 86.91359, \"RAINFALL INTENSITY\": 6.306565217, \"MAX TEMP\": 21.02518, \"MIN TEMP\": 13.86181, \"WETSPELL\": 6, \"NDVI\": 0.637576, \"OCCURANCE\": 0}, {\"DATES\": \"1/03/2019_31/05/2019\", \"RELATIVE HUMIDITY\": 83.25967, \"RAINFALL INTENSITY\": 3.501065217, \"MAX TEMP\": 21.86274, \"MIN TEMP\": 13.94155, \"WETSPELL\": 2, \"NDVI\": 0.666147, \"OCCURANCE\": 0}, {\"DATES\": \"1/03/2020_31/05/2020\", \"RELATIVE HUMIDITY\": 86.40071, \"RAINFALL INTENSITY\": 3.867630435, \"MAX TEMP\": 21.6721, \"MIN TEMP\": 14.36964, \"WETSPELL\": 1, \"NDVI\": 0.697276, \"OCCURANCE\": 1}, {\"DATES\": \"1/03/2021_31/05/2021\", \"RELATIVE HUMIDITY\": 86.19531, \"RAINFALL INTENSITY\": 3.01301087, \"MAX TEMP\": 21.17467, \"MIN TEMP\": 13.67791, \"WETSPELL\": 0, \"NDVI\": 0.712194, \"OCCURANCE\": 0}, {\"DATES\": \"1/03/2022_31/05/2022\", \"RELATIVE HUMIDITY\": 84.86891, \"RAINFALL INTENSITY\": 3.950445652, \"MAX TEMP\": 21.43437, \"MIN TEMP\": 13.66106, \"WETSPELL\": 0, \"NDVI\": 0.666625, \"OCCURANCE\": 1}, {\"DATES\": \"1/03/2023_31/05/2023\", \"RELATIVE HUMIDITY\": 84.80735, \"RAINFALL INTENSITY\": 5.331826087, \"MAX TEMP\": 21.30018, \"MIN TEMP\": 13.94332, \"WETSPELL\": 2, \"NDVI\": 0.694266, \"OCCURANCE\": 1}, {\"DATES\": \"1/09/2010_30/11/2010\", \"RELATIVE HUMIDITY\": 76.80823, \"RAINFALL INTENSITY\": 4.828395604, \"MAX TEMP\": 21.58697, \"MIN TEMP\": 13.24299, \"WETSPELL\": 4, \"NDVI\": 0.554108, \"OCCURANCE\": 0}, {\"DATES\": \"1/09/2011_30/11/2011\", \"RELATIVE HUMIDITY\": 82.85559, \"RAINFALL INTENSITY\": 5.200582418, \"MAX TEMP\": 20.74153, \"MIN TEMP\": 13.06052, \"WETSPELL\": 4, \"NDVI\": 0.633901, \"OCCURANCE\": 1}, {\"DATES\": \"1/09/2012_30/11/2012\", \"RELATIVE HUMIDITY\": 79.32268, \"RAINFALL INTENSITY\": 4.515912088, \"MAX TEMP\": 21.22764, \"MIN TEMP\": 13.06305, \"WETSPELL\": 1, \"NDVI\": 0.612146, \"OCCURANCE\": 0}, {\"DATES\": \"1/09/2013_30/11/2013\", \"RELATIVE HUMIDITY\": 77.01799, \"RAINFALL INTENSITY\": 4.149527473, \"MAX TEMP\": 21.28469, \"MIN TEMP\": 12.94113, \"WETSPELL\": 1, \"NDVI\": 0.577924, \"OCCURANCE\": 0}, {\"DATES\": \"1/09/2014_30/11/2014\", \"RELATIVE HUMIDITY\": 80.17622, \"RAINFALL INTENSITY\": 4.065087912, \"MAX TEMP\": 21.23585, \"MIN TEMP\": 13.10908, \"WETSPELL\": 1, \"NDVI\": 0.596142, \"OCCURANCE\": 0}, {\"DATES\": \"1/09/2015_30/11/2015\", \"RELATIVE HUMIDITY\": 79.76951, \"RAINFALL INTENSITY\": 4.746428571, \"MAX TEMP\": 21.63938, \"MIN TEMP\": 13.59272, \"WETSPELL\": 3, \"NDVI\": 0.575178, \"OCCURANCE\": 0}, {\"DATES\": \"1/09/2016_30/11/2016\", \"RELATIVE HUMIDITY\": 77.28958, \"RAINFALL INTENSITY\": 5.421483516, \"MAX TEMP\": 22.20984, \"MIN TEMP\": 13.73655, \"WETSPELL\": 2, \"NDVI\": 0.605051, \"OCCURANCE\": 0}, {\"DATES\": \"1/09/2017_30/11/2017\", \"RELATIVE HUMIDITY\": 78.5831, \"RAINFALL INTENSITY\": 5.168406593, \"MAX TEMP\": 21.42541, \"MIN TEMP\": 13.30362, \"WETSPELL\": 0, \"NDVI\": 0.579081, \"OCCURANCE\": 0}, {\"DATES\": \"1/09/2018_30/11/2018\", \"RELATIVE HUMIDITY\": 80.07997, \"RAINFALL INTENSITY\": 4.183857143, \"MAX TEMP\": 21.48962, \"MIN TEMP\": 13.32879, \"WETSPELL\": 2, \"NDVI\": 0.592061, \"OCCURANCE\": 0}, {\"DATES\": \"1/09/2019_30/11/2019\", \"RELATIVE HUMIDITY\": 82.73625, \"RAINFALL INTENSITY\": 4.308934066, \"MAX TEMP\": 21.0615, \"MIN TEMP\": 13.30294, \"WETSPELL\": 1, \"NDVI\": 0.633165, \"OCCURANCE\": 0}, {\"DATES\": \"1/09/2020_30/11/2020\", \"RELATIVE HUMIDITY\": 81.53673, \"RAINFALL INTENSITY\": 4.47478022, \"MAX TEMP\": 21.19892, \"MIN TEMP\": 13.48958, \"WETSPELL\": 1, \"NDVI\": 0.67352, \"OCCURANCE\": 0}, {\"DATES\": \"1/09/2021_30/11/2021\", \"RELATIVE HUMIDITY\": 80.05094, \"RAINFALL INTENSITY\": 3.673417582, \"MAX TEMP\": 21.54695, \"MIN TEMP\": 13.4902, \"WETSPELL\": 1, \"NDVI\": 0.655711, \"OCCURANCE\": 0}, {\"DATES\": \"1/09/2022_30/11/2022\", \"RELATIVE HUMIDITY\": 82.29494, \"RAINFALL INTENSITY\": 4.446703297, \"MAX TEMP\": 21.03859, \"MIN TEMP\": 13.48622, \"WETSPELL\": 3, \"NDVI\": 0.661058, \"OCCURANCE\": 1}, {\"DATES\": \"1/09/2023_30/11/2023\", \"RELATIVE HUMIDITY\": 80.30373, \"RAINFALL INTENSITY\": 4.318142857, \"MAX TEMP\": 21.31903, \"MIN TEMP\": 14.01205, \"WETSPELL\": 1, \"NDVI\": 0.651266, \"OCCURANCE\": 1}]}}, {\"mode\": \"vega-lite\"});\n",
              "</script>"
            ],
            "text/plain": [
              "alt.Chart(...)"
            ]
          },
          "metadata": {},
          "execution_count": 19
        }
      ],
      "source": [
        "# @title DATES vs MIN TEMP\n",
        "alt.Chart(df).mark_line().encode(x='DATES', y='MIN TEMP')"
      ]
    },
    {
      "cell_type": "code",
      "execution_count": null,
      "metadata": {
        "colab": {
          "base_uri": "https://localhost:8080/",
          "height": 449
        },
        "id": "f8-V3BF-mYOh",
        "outputId": "c242f1f3-afd5-4e9e-e687-718310dd86e0"
      },
      "outputs": [
        {
          "output_type": "display_data",
          "data": {
            "text/plain": [
              "<Figure size 640x480 with 1 Axes>"
            ],
            "image/png": "[encoded data removed]"
          },
          "metadata": {}
        }
      ],
      "source": [
        "# @title RELATIVE HUMIDITY vs RAINFALL INTENSITY\n",
        "\n",
        "from matplotlib import pyplot as plt\n",
        "df.plot(kind='scatter', x='RELATIVE HUMIDITY', y='RAINFALL INTENSITY', s=32, alpha=.8)\n",
        "plt.gca().spines[['top', 'right',]].set_visible(False)"
      ]
    },
    {
      "cell_type": "code",
      "execution_count": null,
      "metadata": {
        "colab": {
          "base_uri": "https://localhost:8080/",
          "height": 452
        },
        "id": "9mKcWPxJmK_k",
        "outputId": "9aaade9c-7fca-4846-adef-78050872102e"
      },
      "outputs": [
        {
          "output_type": "display_data",
          "data": {
            "text/plain": [
              "<Figure size 640x480 with 1 Axes>"
            ],
            "image/png": "[encoded data removed]"
          },
          "metadata": {}
        }
      ],
      "source": [
        "# @title RELATIVE HUMIDITY\n",
        "\n",
        "from matplotlib import pyplot as plt\n",
        "df['RELATIVE HUMIDITY'].plot(kind='hist', bins=20, title='RELATIVE HUMIDITY')\n",
        "plt.gca().spines[['top', 'right',]].set_visible(False)"
      ]
    },
    {
      "cell_type": "code",
      "execution_count": null,
      "metadata": {
        "colab": {
          "base_uri": "https://localhost:8080/",
          "height": 452
        },
        "id": "r0ji7ghPmFi8",
        "outputId": "4ebc6917-0ee0-48af-d996-cbaa816368d2"
      },
      "outputs": [
        {
          "output_type": "display_data",
          "data": {
            "text/plain": [
              "<Figure size 640x480 with 1 Axes>"
            ],
            "image/png": "[encoded data removed]"
          },
          "metadata": {}
        }
      ],
      "source": [
        "# @title RAINFALL INTENSITY\n",
        "\n",
        "from matplotlib import pyplot as plt\n",
        "df['RAINFALL INTENSITY'].plot(kind='hist', bins=20, title='RAINFALL INTENSITY')\n",
        "plt.gca().spines[['top', 'right',]].set_visible(False)"
      ]
    },
    {
      "cell_type": "code",
      "execution_count": null,
      "metadata": {
        "colab": {
          "base_uri": "https://localhost:8080/"
        },
        "id": "975oqZqOokEM",
        "outputId": "433a76c0-91d5-42ee-a9c7-a7c8326c355f"
      },
      "outputs": [
        {
          "output_type": "execute_result",
          "data": {
            "text/plain": [
              "Index(['RELATIVE HUMIDITY', 'RAINFALL INTENSITY', 'MAX TEMP', 'MIN TEMP',\n",
              "       'WETSPELL', 'NDVI'],\n",
              "      dtype='object')"
            ]
          },
          "metadata": {},
          "execution_count": 23
        }
      ],
      "source": [
        "X = df.drop(columns=[\"DATES\", \"OCCURANCE\"])\n",
        "X.columns"
      ]
    },
    {
      "cell_type": "code",
      "execution_count": null,
      "metadata": {
        "colab": {
          "base_uri": "https://localhost:8080/"
        },
        "id": "sKW1jcW0o_38",
        "outputId": "fe4472b9-8f5d-4fa6-ee76-af764a6009a8"
      },
      "outputs": [
        {
          "output_type": "execute_result",
          "data": {
            "text/plain": [
              "0    1\n",
              "1    0\n",
              "2    0\n",
              "3    0\n",
              "4    1\n",
              "Name: OCCURANCE, dtype: int64"
            ]
          },
          "metadata": {},
          "execution_count": 24
        }
      ],
      "source": [
        "y = df[\"OCCURANCE\"]\n",
        "y.head()"
      ]
    },
    {
      "cell_type": "code",
      "execution_count": null,
      "metadata": {
        "id": "UcQzdSRepHqV"
      },
      "outputs": [],
      "source": [
        "from sklearn.model_selection import train_test_split\n",
        "\n",
        "X_train, X_test, y_train, y_test = train_test_split(X, y, test_size=0.3, random_state=101)\n"
      ]
    },
    {
      "cell_type": "code",
      "execution_count": null,
      "metadata": {
        "colab": {
          "base_uri": "https://localhost:8080/"
        },
        "id": "jIkT7qssp4Z5",
        "outputId": "8781a919-e552-48f5-8bf0-cc99f51aa87e"
      },
      "outputs": [
        {
          "output_type": "stream",
          "name": "stdout",
          "text": [
            "Model score on test data: 0.8888888888888888\n"
          ]
        }
      ],
      "source": [
        "from sklearn.linear_model import LogisticRegression\n",
        "\n",
        "model = LogisticRegression()\n",
        "model.fit(X_train, y_train)\n",
        "\n",
        "print(\"Model score on test data:\", model.score(X_test, y_test))\n"
      ]
    },
    {
      "cell_type": "code",
      "source": [
        "# Make predictions on the test set\n",
        "y_pred = model.predict(X_test)\n",
        "y_pred"
      ],
      "metadata": {
        "colab": {
          "base_uri": "https://localhost:8080/"
        },
        "id": "vs3UDNqFtpD0",
        "outputId": "25e976dc-aef9-4113-9196-268219f27ed0"
      },
      "execution_count": null,
      "outputs": [
        {
          "output_type": "execute_result",
          "data": {
            "text/plain": [
              "array([0, 0, 0, 0, 1, 0, 0, 0, 1])"
            ]
          },
          "metadata": {},
          "execution_count": 33
        }
      ]
    },
    {
      "cell_type": "code",
      "source": [
        "# Generate confusion matrix\n",
        "cm = confusion_matrix(y_test, y_pred)\n",
        "\n",
        "# Create a DataFrame from the confusion matrix\n",
        "cm_df = pd.DataFrame(cm, columns=['Predicted 0', 'Predicted 1'], index=['Actual 0', 'Actual 1'])\n",
        "\n",
        "# Display the DataFrame\n",
        "print(cm_df)\n"
      ],
      "metadata": {
        "colab": {
          "base_uri": "https://localhost:8080/"
        },
        "id": "gxBN-UwruaYl",
        "outputId": "4954d99e-8173-4927-8f3c-9c50bfc8f3b1"
      },
      "execution_count": null,
      "outputs": [
        {
          "output_type": "stream",
          "name": "stdout",
          "text": [
            "          Predicted 0  Predicted 1\n",
            "Actual 0            7            1\n",
            "Actual 1            0            1\n"
          ]
        }
      ]
    },
    {
      "cell_type": "code",
      "source": [
        "#f1-score\n",
        "\n",
        "from sklearn.metrics import f1_score\n",
        "\n",
        "# Calculate the F1 score\n",
        "f1 = f1_score(y_test, y_pred)\n",
        "\n",
        "# Print the F1 score\n",
        "print(\"F1 score:\", f1)\n"
      ],
      "metadata": {
        "colab": {
          "base_uri": "https://localhost:8080/"
        },
        "id": "g2ujFuJ1v3yO",
        "outputId": "379b0c93-6989-4d44-81d6-f3c9280dc863"
      },
      "execution_count": null,
      "outputs": [
        {
          "output_type": "stream",
          "name": "stdout",
          "text": [
            "F1 score: 0.6666666666666666\n"
          ]
        }
      ]
    },
    {
      "cell_type": "code",
      "source": [
        "from sklearn.model_selection import StratifiedKFold, cross_val_score\n",
        "from sklearn.linear_model import LogisticRegression\n",
        "\n",
        "# Create a logistic regression model\n",
        "model = LogisticRegression(max_iter=1000)  # Increase max_iter to ensure convergence\n",
        "\n",
        "# Initialize Stratified K-Fold cross-validator\n",
        "skf = StratifiedKFold(n_splits=10, shuffle=True, random_state=42)\n",
        "\n",
        "# Perform cross-validation with stratified k-fold\n",
        "scores = cross_val_score(model, X, y, cv=skf)\n",
        "\n",
        "# Print the average cross-validation score\n",
        "print(\"Average cross-validation score:\", scores.mean())\n",
        "\n",
        "# Print the individual cross-validation scores\n",
        "print(\"Individual cross-validation scores:\", scores)"
      ],
      "metadata": {
        "colab": {
          "base_uri": "https://localhost:8080/"
        },
        "id": "GExV7_TtwHto",
        "outputId": "fdba0449-a6bc-4dc4-9568-64e34f2b719d"
      },
      "execution_count": null,
      "outputs": [
        {
          "output_type": "stream",
          "name": "stderr",
          "text": [
            "/usr/local/lib/python3.10/dist-packages/sklearn/model_selection/_split.py:700: UserWarning: The least populated class in y has only 8 members, which is less than n_splits=10.\n",
            "  warnings.warn(\n"
          ]
        },
        {
          "output_type": "stream",
          "name": "stdout",
          "text": [
            "Average cross-validation score: 0.7333333333333333\n",
            "Individual cross-validation scores: [1.         0.66666667 0.66666667 0.66666667 0.66666667 0.66666667\n",
            " 0.33333333 0.66666667 1.         1.        ]\n"
          ]
        }
      ]
    },
    {
      "cell_type": "code",
      "execution_count": null,
      "metadata": {
        "colab": {
          "base_uri": "https://localhost:8080/"
        },
        "id": "qW_6FDhMqFVw",
        "outputId": "0e2b2d6d-abe3-419a-f275-27b1eb5e31fd"
      },
      "outputs": [
        {
          "output_type": "execute_result",
          "data": {
            "text/plain": [
              "['landslide_model.h5']"
            ]
          },
          "metadata": {},
          "execution_count": 29
        }
      ],
      "source": [
        "import joblib\n",
        "\n",
        "model_filename = 'landslide_model.h5'\n",
        "joblib.dump(model, model_filename)\n"
      ]
    }
  ],
  "metadata": {
    "colab": {
      "provenance": []
    },
    "kernelspec": {
      "display_name": "Python 3",
      "name": "python3"
    },
    "language_info": {
      "name": "python"
    }
  },
  "nbformat": 4,
  "nbformat_minor": 0
}